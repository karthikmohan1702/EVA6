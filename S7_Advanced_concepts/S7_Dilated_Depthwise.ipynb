{
  "nbformat": 4,
  "nbformat_minor": 0,
  "metadata": {
    "accelerator": "GPU",
    "colab": {
      "name": "S7_Dilated_Depthwise.ipynb",
      "provenance": [],
      "collapsed_sections": [],
      "include_colab_link": true
    },
    "kernelspec": {
      "display_name": "Python 3",
      "name": "python3"
    },
    "language_info": {
      "name": "python"
    }
  },
  "cells": [
    {
      "cell_type": "markdown",
      "metadata": {
        "id": "view-in-github",
        "colab_type": "text"
      },
      "source": [
        "<a href=\"https://colab.research.google.com/github/karthikmohan1702/EVA6/blob/main/S7_Advanced_concepts/S7_Dilated_Depthwise.ipynb\" target=\"_parent\"><img src=\"https://colab.research.google.com/assets/colab-badge.svg\" alt=\"Open In Colab\"/></a>"
      ]
    },
    {
      "cell_type": "code",
      "metadata": {
        "id": "h9Xq3F7OhfZb"
      },
      "source": [
        "# Pytorch related imports\n",
        "# -----------------------\n",
        "from torchvision.datasets import CIFAR10\n",
        "from torch.utils.data import DataLoader\n",
        "from torchsummary import summary\n",
        "from torch.optim.lr_scheduler import StepLR, OneCycleLR\n",
        "import torch\n",
        "import torch.nn as nn\n",
        "import torch.nn.functional as F\n",
        "import torch.optim as optim\n",
        "import torchvision\n",
        "import torchvision.transforms as transforms\n",
        "import torchvision.datasets as datasets\n",
        "\n",
        "# Python related imports\n",
        "# -----------------------\n",
        "from __future__ import print_function\n",
        "from tqdm import tqdm\n",
        "from collections import Counter\n",
        "from collections import OrderedDict\n",
        "import matplotlib.pyplot as plt\n",
        "import numpy as np\n",
        "import matplotlib.pyplot as plt\n",
        "import os\n",
        "import sys"
      ],
      "execution_count": 1,
      "outputs": []
    },
    {
      "cell_type": "code",
      "metadata": {
        "colab": {
          "base_uri": "https://localhost:8080/"
        },
        "id": "5vfzUjSwetYW",
        "outputId": "e254fbbe-8e72-489b-ed77-bbba50913d33"
      },
      "source": [
        "# Google drive\n",
        "# ------------\n",
        "from google.colab import drive\n",
        "drive.mount('/content/drive')"
      ],
      "execution_count": 2,
      "outputs": [
        {
          "output_type": "stream",
          "text": [
            "Drive already mounted at /content/drive; to attempt to forcibly remount, call drive.mount(\"/content/drive\", force_remount=True).\n"
          ],
          "name": "stdout"
        }
      ]
    },
    {
      "cell_type": "code",
      "metadata": {
        "id": "xwsJLAm0jeV9"
      },
      "source": [
        "# !pip install torchsummary\n",
        "# !pip install -U albumentations"
      ],
      "execution_count": 3,
      "outputs": []
    },
    {
      "cell_type": "code",
      "metadata": {
        "id": "qsjdXIC0eysD"
      },
      "source": [
        "# Local imports\n",
        "# -------------\n",
        "sys.path.append(\"/content/drive/MyDrive/Colab Notebooks/EVA_6/S7_Advanced/src/\")\n",
        "sys.path.append(\"/content/drive/MyDrive/Colab Notebooks/EVA_6/S7_Advanced/src/model/\")\n",
        "from dataloader import load_data, augmentations\n",
        "from cifar10_model import cifar10_Net\n",
        "from model import train, test\n",
        "from utils import misc, visualization"
      ],
      "execution_count": 4,
      "outputs": []
    },
    {
      "cell_type": "markdown",
      "metadata": {
        "id": "IqnUpnun4oI8"
      },
      "source": [
        "## Data Analysis"
      ]
    },
    {
      "cell_type": "code",
      "metadata": {
        "colab": {
          "base_uri": "https://localhost:8080/"
        },
        "id": "RHqay8Ih4cCL",
        "outputId": "623df7f1-151c-4041-926e-7d963230c2a8"
      },
      "source": [
        "batch_size = 128\n",
        "\n",
        "device = torch.device(\"cuda\" if torch.cuda.is_available() else \"cpu\")\n",
        "train_set = CIFAR10(root=\"data/\", transform=transforms.ToTensor(), download=True)\n",
        "test_set = CIFAR10(root='data/', train=False, transform=transforms.ToTensor(), download=True)\n",
        "train_loader, test_loader = load_data.train_test_loader(train_set, test_set, batch_size)\n"
      ],
      "execution_count": 5,
      "outputs": [
        {
          "output_type": "stream",
          "text": [
            "Files already downloaded and verified\n",
            "Files already downloaded and verified\n"
          ],
          "name": "stdout"
        }
      ]
    },
    {
      "cell_type": "markdown",
      "metadata": {
        "id": "2NE3E0WQ4_Gg"
      },
      "source": [
        "**View the Images that are present in the dataset**"
      ]
    },
    {
      "cell_type": "code",
      "metadata": {
        "colab": {
          "base_uri": "https://localhost:8080/",
          "height": 169
        },
        "id": "LQpOf9_x4mab",
        "outputId": "4567eab6-201e-4b9e-c7bd-862e77434b73"
      },
      "source": [
        "sample_data_loader, _ = load_data.train_test_loader(train_set, test_set, batch_size=5)\n",
        "classes = train_set.classes\n",
        "print(\"Classes present in the dataset ==> \", classes)\n",
        "print(\"\\n\")\n",
        "\n",
        "# Grid of images, tagged with its label\n",
        "visualization.plot_sample_img(sample_data_loader, classes)"
      ],
      "execution_count": 6,
      "outputs": [
        {
          "output_type": "stream",
          "text": [
            "Classes present in the dataset ==>  ['airplane', 'automobile', 'bird', 'cat', 'deer', 'dog', 'frog', 'horse', 'ship', 'truck']\n",
            "\n",
            "\n",
            "    dog    ship airplane     cat    bird\n"
          ],
          "name": "stdout"
        },
        {
          "output_type": "display_data",
          "data": {
            "image/png": "[encoded data removed]",
            "text/plain": [
              "<Figure size 432x288 with 1 Axes>"
            ]
          },
          "metadata": {
            "tags": [],
            "needs_background": "light"
          }
        }
      ]
    },
    {
      "cell_type": "markdown",
      "metadata": {
        "id": "XOqyxVTb5SrK"
      },
      "source": [
        "**Size of Train & Test Dataset**\n"
      ]
    },
    {
      "cell_type": "code",
      "metadata": {
        "colab": {
          "base_uri": "https://localhost:8080/"
        },
        "id": "I9vhrKbP5EbM",
        "outputId": "09062a10-d14a-407f-994a-4cb5a19cc0b0"
      },
      "source": [
        "print(\"Train dataset size\")\n",
        "print(\"===\"*6)\n",
        "print(train_set)\n",
        "print(\"\\n\")\n",
        "print(\"Test dataset size\")\n",
        "print(\"===\"*6)\n",
        "print(test_set)"
      ],
      "execution_count": 7,
      "outputs": [
        {
          "output_type": "stream",
          "text": [
            "Train dataset size\n",
            "==================\n",
            "Dataset CIFAR10\n",
            "    Number of datapoints: 50000\n",
            "    Root location: data/\n",
            "    Split: Train\n",
            "    StandardTransform\n",
            "Transform: ToTensor()\n",
            "\n",
            "\n",
            "Test dataset size\n",
            "==================\n",
            "Dataset CIFAR10\n",
            "    Number of datapoints: 10000\n",
            "    Root location: data/\n",
            "    Split: Test\n",
            "    StandardTransform\n",
            "Transform: ToTensor()\n"
          ],
          "name": "stdout"
        }
      ]
    },
    {
      "cell_type": "markdown",
      "metadata": {
        "id": "cqo2aYd_Af_B"
      },
      "source": [
        "**Mean & std deviation**"
      ]
    },
    {
      "cell_type": "code",
      "metadata": {
        "colab": {
          "base_uri": "https://localhost:8080/"
        },
        "id": "6B42U7B_Ae8R",
        "outputId": "dbe2b83d-3165-44bd-ef94-a15ed16c04a0"
      },
      "source": [
        "mean, std = misc.get_mean_std(train_loader)\n",
        "print(\"\\n\\n\",\"mean ==> \", mean, \"\\n\",\"std ==> \", std)"
      ],
      "execution_count": 8,
      "outputs": [
        {
          "output_type": "stream",
          "text": [
            "100%|██████████| 391/391 [00:05<00:00, 72.23it/s]"
          ],
          "name": "stderr"
        },
        {
          "output_type": "stream",
          "text": [
            "\n",
            "\n",
            " mean ==>  tensor([0.4914, 0.4821, 0.4465]) \n",
            " std ==>  tensor([0.2470, 0.2435, 0.2616])\n"
          ],
          "name": "stdout"
        },
        {
          "output_type": "stream",
          "text": [
            "\n"
          ],
          "name": "stderr"
        }
      ]
    },
    {
      "cell_type": "markdown",
      "metadata": {
        "id": "7hUapknL8Vdn"
      },
      "source": [
        "**Checking distribution of classes in Train & Test dataset**"
      ]
    },
    {
      "cell_type": "code",
      "metadata": {
        "colab": {
          "base_uri": "https://localhost:8080/",
          "height": 663
        },
        "id": "zQ4XPL9pO25U",
        "outputId": "a7ab1898-aab7-4d4e-fc34-6cc9f793e534"
      },
      "source": [
        "misc.print_dist_stats(train_set, test_set)"
      ],
      "execution_count": 9,
      "outputs": [
        {
          "output_type": "stream",
          "text": [
            "Distribution of classes in Train Dataset\n",
            "============================================================\n"
          ],
          "name": "stdout"
        },
        {
          "output_type": "display_data",
          "data": {
            "text/plain": [
              "Counter({'airplane': 5000,\n",
              "         'automobile': 5000,\n",
              "         'bird': 5000,\n",
              "         'cat': 5000,\n",
              "         'deer': 5000,\n",
              "         'dog': 5000,\n",
              "         'frog': 5000,\n",
              "         'horse': 5000,\n",
              "         'ship': 5000,\n",
              "         'truck': 5000})"
            ]
          },
          "metadata": {
            "tags": []
          }
        },
        {
          "output_type": "stream",
          "text": [
            "\n",
            "\n",
            "Distribution of classes in Test Dataset\n",
            "============================================================\n"
          ],
          "name": "stdout"
        },
        {
          "output_type": "display_data",
          "data": {
            "text/plain": [
              "Counter({'airplane': 1000,\n",
              "         'automobile': 1000,\n",
              "         'bird': 1000,\n",
              "         'cat': 1000,\n",
              "         'deer': 1000,\n",
              "         'dog': 1000,\n",
              "         'frog': 1000,\n",
              "         'horse': 1000,\n",
              "         'ship': 1000,\n",
              "         'truck': 1000})"
            ]
          },
          "metadata": {
            "tags": []
          }
        },
        {
          "output_type": "stream",
          "text": [
            "\n",
            "\n",
            "Distribution of size of image in Train Dataset\n",
            "============================================================\n"
          ],
          "name": "stdout"
        },
        {
          "output_type": "display_data",
          "data": {
            "text/plain": [
              "Counter({(3, 32, 32): 50000})"
            ]
          },
          "metadata": {
            "tags": []
          }
        },
        {
          "output_type": "stream",
          "text": [
            "\n",
            "\n",
            "Distribution of size of image in Test Dataset\n",
            "============================================================\n"
          ],
          "name": "stdout"
        },
        {
          "output_type": "display_data",
          "data": {
            "text/plain": [
              "Counter({(3, 32, 32): 10000})"
            ]
          },
          "metadata": {
            "tags": []
          }
        },
        {
          "output_type": "stream",
          "text": [
            "\n",
            "\n"
          ],
          "name": "stdout"
        }
      ]
    },
    {
      "cell_type": "markdown",
      "metadata": {
        "id": "aiR-Yk7CIT-1"
      },
      "source": [
        "### Downloading Dataset, dataloader & Albumentations"
      ]
    },
    {
      "cell_type": "code",
      "metadata": {
        "colab": {
          "base_uri": "https://localhost:8080/"
        },
        "id": "-IYOWyyZa9bb",
        "outputId": "01ece221-5bd5-4f59-89fc-cd84b8ec34a0"
      },
      "source": [
        "mean.tolist(), std.tolist()"
      ],
      "execution_count": 10,
      "outputs": [
        {
          "output_type": "execute_result",
          "data": {
            "text/plain": [
              "([0.49138519167900085, 0.4821462035179138, 0.44650936126708984],\n",
              " [0.2470356971025467, 0.24348768591880798, 0.26158225536346436])"
            ]
          },
          "metadata": {
            "tags": []
          },
          "execution_count": 10
        }
      ]
    },
    {
      "cell_type": "markdown",
      "metadata": {
        "id": "0SiyiOZdZnCc"
      },
      "source": [
        "**Albumentations**"
      ]
    },
    {
      "cell_type": "code",
      "metadata": {
        "id": "bcj9iU--b8F3"
      },
      "source": [
        "train_transform, test_transform = augmentations.albumentaion_transform(mean.tolist(), std.tolist())"
      ],
      "execution_count": 11,
      "outputs": []
    },
    {
      "cell_type": "markdown",
      "metadata": {
        "id": "X8QM3W11Zq1U"
      },
      "source": [
        "**Data Loader**"
      ]
    },
    {
      "cell_type": "code",
      "metadata": {
        "colab": {
          "base_uri": "https://localhost:8080/"
        },
        "id": "57UL6P_51ZaP",
        "outputId": "5fe5e075-b014-4e28-cde1-62f6e5603379"
      },
      "source": [
        "trainset= load_data.get_cifar10_dataset(transform=train_transform)\n",
        "testset= load_data.get_cifar10_dataset(train= False, transform= test_transform)\n",
        "batch_size = 128\n",
        "\n",
        "train_loader, test_loader = load_data.train_test_loader(trainset, testset, batch_size)"
      ],
      "execution_count": 12,
      "outputs": [
        {
          "output_type": "stream",
          "text": [
            "Files already downloaded and verified\n",
            "Files already downloaded and verified\n"
          ],
          "name": "stdout"
        }
      ]
    },
    {
      "cell_type": "code",
      "metadata": {
        "colab": {
          "base_uri": "https://localhost:8080/"
        },
        "id": "7HIbfCj1ZRlS",
        "outputId": "fef30fc3-5d79-4849-b80c-32ae18cc9105"
      },
      "source": [
        "print(\"Train set\")\n",
        "print(\"==\"*6)\n",
        "trainset"
      ],
      "execution_count": 13,
      "outputs": [
        {
          "output_type": "stream",
          "text": [
            "Train set\n",
            "============\n"
          ],
          "name": "stdout"
        },
        {
          "output_type": "execute_result",
          "data": {
            "text/plain": [
              "Dataset get_cifar10_dataset\n",
              "    Number of datapoints: 50000\n",
              "    Root location: /root/data/cifar10\n",
              "    Split: Train\n",
              "    StandardTransform\n",
              "Transform: Compose([\n",
              "             HorizontalFlip(always_apply=False, p=0.2),\n",
              "             ShiftScaleRotate(always_apply=False, p=0.5, shift_limit_x=(-0.0625, 0.0625), shift_limit_y=(-0.0625, 0.0625), scale_limit=(-0.09999999999999998, 0.10000000000000009), rotate_limit=(-10, 10), interpolation=1, border_mode=4, value=None, mask_value=None),\n",
              "             CoarseDropout(always_apply=False, p=0.5, max_holes=1, max_height=16, max_width=16, min_holes=1, min_height=16, min_width=1, fill_value=[0.49138519167900085, 0.4821462035179138, 0.44650936126708984], mask_fill_value=None),\n",
              "             Normalize(always_apply=False, p=1.0, mean=[0.49138519167900085, 0.4821462035179138, 0.44650936126708984], std=[0.2470356971025467, 0.24348768591880798, 0.26158225536346436], max_pixel_value=255.0),\n",
              "             ToTensorV2(always_apply=True, p=1.0, transpose_mask=False),\n",
              "           ], p=1.0, bbox_params=None, keypoint_params=None, additional_targets={})"
            ]
          },
          "metadata": {
            "tags": []
          },
          "execution_count": 13
        }
      ]
    },
    {
      "cell_type": "code",
      "metadata": {
        "colab": {
          "base_uri": "https://localhost:8080/"
        },
        "id": "uj3RWVVsdO3y",
        "outputId": "abbbeedc-38a1-44ce-faca-9c5afd1fb77b"
      },
      "source": [
        "print(\"Test set\")\n",
        "print(\"==\"*6)\n",
        "testset"
      ],
      "execution_count": 14,
      "outputs": [
        {
          "output_type": "stream",
          "text": [
            "Test set\n",
            "============\n"
          ],
          "name": "stdout"
        },
        {
          "output_type": "execute_result",
          "data": {
            "text/plain": [
              "Dataset get_cifar10_dataset\n",
              "    Number of datapoints: 10000\n",
              "    Root location: /root/data/cifar10\n",
              "    Split: Test\n",
              "    StandardTransform\n",
              "Transform: Compose([\n",
              "             Normalize(always_apply=False, p=1.0, mean=[0.49138519167900085, 0.4821462035179138, 0.44650936126708984], std=[0.2470356971025467, 0.24348768591880798, 0.26158225536346436], max_pixel_value=255.0),\n",
              "             ToTensorV2(always_apply=True, p=1.0, transpose_mask=False),\n",
              "           ], p=1.0, bbox_params=None, keypoint_params=None, additional_targets={})"
            ]
          },
          "metadata": {
            "tags": []
          },
          "execution_count": 14
        }
      ]
    },
    {
      "cell_type": "markdown",
      "metadata": {
        "id": "IJVrmkFpV4jP"
      },
      "source": [
        "## Summary of the model"
      ]
    },
    {
      "cell_type": "code",
      "metadata": {
        "colab": {
          "base_uri": "https://localhost:8080/"
        },
        "id": "3jqOiEgqo1dz",
        "outputId": "0f48fd44-ca79-43f3-8796-9c735a8f04c4"
      },
      "source": [
        "misc.get_model_summary(model=cifar10_Net(), input_size=(3, 32, 32))"
      ],
      "execution_count": 15,
      "outputs": [
        {
          "output_type": "stream",
          "text": [
            "cuda\n",
            "----------------------------------------------------------------\n",
            "        Layer (type)               Output Shape         Param #\n",
            "================================================================\n",
            "            Conv2d-1           [-1, 32, 32, 32]             896\n",
            "       BatchNorm2d-2           [-1, 32, 32, 32]              64\n",
            "              ReLU-3           [-1, 32, 32, 32]               0\n",
            "           Dropout-4           [-1, 32, 32, 32]               0\n",
            "            Conv2d-5           [-1, 32, 32, 32]           9,248\n",
            "       BatchNorm2d-6           [-1, 32, 32, 32]              64\n",
            "              ReLU-7           [-1, 32, 32, 32]               0\n",
            "           Dropout-8           [-1, 32, 32, 32]               0\n",
            "            Conv2d-9           [-1, 32, 32, 32]           1,056\n",
            "           Conv2d-10           [-1, 32, 14, 14]           9,248\n",
            "           Conv2d-11           [-1, 64, 12, 12]          18,496\n",
            "      BatchNorm2d-12           [-1, 64, 12, 12]             128\n",
            "             ReLU-13           [-1, 64, 12, 12]               0\n",
            "          Dropout-14           [-1, 64, 12, 12]               0\n",
            "           Conv2d-15           [-1, 64, 12, 12]          36,928\n",
            "      BatchNorm2d-16           [-1, 64, 12, 12]             128\n",
            "             ReLU-17           [-1, 64, 12, 12]               0\n",
            "          Dropout-18           [-1, 64, 12, 12]               0\n",
            "           Conv2d-19           [-1, 32, 12, 12]           2,080\n",
            "           Conv2d-20             [-1, 32, 4, 4]           9,248\n",
            "           Conv2d-21             [-1, 32, 4, 4]             320\n",
            "           Conv2d-22             [-1, 32, 4, 4]           1,056\n",
            "      BatchNorm2d-23             [-1, 32, 4, 4]              64\n",
            "             ReLU-24             [-1, 32, 4, 4]               0\n",
            "          Dropout-25             [-1, 32, 4, 4]               0\n",
            "           Conv2d-26             [-1, 64, 4, 4]          18,496\n",
            "      BatchNorm2d-27             [-1, 64, 4, 4]             128\n",
            "             ReLU-28             [-1, 64, 4, 4]               0\n",
            "          Dropout-29             [-1, 64, 4, 4]               0\n",
            "           Conv2d-30             [-1, 64, 4, 4]           4,160\n",
            "           Conv2d-31             [-1, 64, 4, 4]          36,928\n",
            "      BatchNorm2d-32             [-1, 64, 4, 4]             128\n",
            "             ReLU-33             [-1, 64, 4, 4]               0\n",
            "          Dropout-34             [-1, 64, 4, 4]               0\n",
            "           Conv2d-35             [-1, 64, 4, 4]          36,928\n",
            "      BatchNorm2d-36             [-1, 64, 4, 4]             128\n",
            "             ReLU-37             [-1, 64, 4, 4]               0\n",
            "        AvgPool2d-38             [-1, 64, 1, 1]               0\n",
            "           Conv2d-39             [-1, 10, 1, 1]             650\n",
            "================================================================\n",
            "Total params: 186,570\n",
            "Trainable params: 186,570\n",
            "Non-trainable params: 0\n",
            "----------------------------------------------------------------\n",
            "Input size (MB): 0.01\n",
            "Forward/backward pass size (MB): 3.01\n",
            "Params size (MB): 0.71\n",
            "Estimated Total Size (MB): 3.74\n",
            "----------------------------------------------------------------\n"
          ],
          "name": "stdout"
        },
        {
          "output_type": "stream",
          "text": [
            "/content/drive/MyDrive/Colab Notebooks/EVA_6/S7_Advanced/src/model/cifar10_model.py:91: UserWarning: Implicit dimension choice for log_softmax has been deprecated. Change the call to include dim=X as an argument.\n",
            "  return F.log_softmax(x)\n"
          ],
          "name": "stderr"
        }
      ]
    },
    {
      "cell_type": "code",
      "metadata": {
        "colab": {
          "base_uri": "https://localhost:8080/"
        },
        "id": "UsWgEXTXVRT3",
        "outputId": "de6fbde1-8778-4f71-e1fe-33c0f22ff7cc"
      },
      "source": [
        "cifar10_Net().eval"
      ],
      "execution_count": 16,
      "outputs": [
        {
          "output_type": "execute_result",
          "data": {
            "text/plain": [
              "<bound method Module.eval of cifar10_Net(\n",
              "  (conv1): Sequential(\n",
              "    (0): Conv2d(3, 32, kernel_size=(3, 3), stride=(1, 1), padding=(1, 1))\n",
              "    (1): BatchNorm2d(32, eps=1e-05, momentum=0.1, affine=True, track_running_stats=True)\n",
              "    (2): ReLU()\n",
              "    (3): Dropout(p=0.06, inplace=False)\n",
              "    (4): Conv2d(32, 32, kernel_size=(3, 3), stride=(1, 1), padding=(1, 1))\n",
              "    (5): BatchNorm2d(32, eps=1e-05, momentum=0.1, affine=True, track_running_stats=True)\n",
              "    (6): ReLU()\n",
              "    (7): Dropout(p=0.06, inplace=False)\n",
              "  )\n",
              "  (trans1): Sequential(\n",
              "    (0): Conv2d(32, 32, kernel_size=(1, 1), stride=(1, 1))\n",
              "    (1): Conv2d(32, 32, kernel_size=(3, 3), stride=(2, 2), dilation=(2, 2))\n",
              "  )\n",
              "  (conv2): Sequential(\n",
              "    (0): Conv2d(32, 64, kernel_size=(3, 3), stride=(1, 1), padding=(1, 1), dilation=(2, 2))\n",
              "    (1): BatchNorm2d(64, eps=1e-05, momentum=0.1, affine=True, track_running_stats=True)\n",
              "    (2): ReLU()\n",
              "    (3): Dropout(p=0.06, inplace=False)\n",
              "    (4): Conv2d(64, 64, kernel_size=(3, 3), stride=(1, 1), padding=(1, 1))\n",
              "    (5): BatchNorm2d(64, eps=1e-05, momentum=0.1, affine=True, track_running_stats=True)\n",
              "    (6): ReLU()\n",
              "    (7): Dropout(p=0.06, inplace=False)\n",
              "  )\n",
              "  (trans2): Sequential(\n",
              "    (0): Conv2d(64, 32, kernel_size=(1, 1), stride=(1, 1))\n",
              "    (1): Conv2d(32, 32, kernel_size=(3, 3), stride=(2, 2), dilation=(2, 2))\n",
              "  )\n",
              "  (conv3): Sequential(\n",
              "    (0): Conv2d(32, 32, kernel_size=(3, 3), stride=(1, 1), padding=(1, 1), groups=32)\n",
              "    (1): Conv2d(32, 32, kernel_size=(1, 1), stride=(1, 1))\n",
              "    (2): BatchNorm2d(32, eps=1e-05, momentum=0.1, affine=True, track_running_stats=True)\n",
              "    (3): ReLU()\n",
              "    (4): Dropout(p=0.06, inplace=False)\n",
              "    (5): Conv2d(32, 64, kernel_size=(3, 3), stride=(1, 1), padding=(1, 1))\n",
              "    (6): BatchNorm2d(64, eps=1e-05, momentum=0.1, affine=True, track_running_stats=True)\n",
              "    (7): ReLU()\n",
              "    (8): Dropout(p=0.06, inplace=False)\n",
              "  )\n",
              "  (trans3): Sequential(\n",
              "    (0): Conv2d(64, 64, kernel_size=(1, 1), stride=(1, 1))\n",
              "  )\n",
              "  (conv4): Sequential(\n",
              "    (0): Conv2d(64, 64, kernel_size=(3, 3), stride=(1, 1), padding=(1, 1))\n",
              "    (1): BatchNorm2d(64, eps=1e-05, momentum=0.1, affine=True, track_running_stats=True)\n",
              "    (2): ReLU()\n",
              "    (3): Dropout(p=0.06, inplace=False)\n",
              "    (4): Conv2d(64, 64, kernel_size=(3, 3), stride=(1, 1), padding=(1, 1))\n",
              "    (5): BatchNorm2d(64, eps=1e-05, momentum=0.1, affine=True, track_running_stats=True)\n",
              "    (6): ReLU()\n",
              "  )\n",
              "  (op): Sequential(\n",
              "    (0): AvgPool2d(kernel_size=3, stride=2, padding=0)\n",
              "    (1): Conv2d(64, 10, kernel_size=(1, 1), stride=(1, 1))\n",
              "  )\n",
              ")>"
            ]
          },
          "metadata": {
            "tags": []
          },
          "execution_count": 16
        }
      ]
    },
    {
      "cell_type": "code",
      "metadata": {
        "colab": {
          "base_uri": "https://localhost:8080/"
        },
        "id": "P6nQNjW0axi1",
        "outputId": "f0159031-0932-4a5b-9af9-93d8ff282bd6"
      },
      "source": [
        "device = misc.get_device_info()\n",
        "print(\"Device in use ==> \", device)"
      ],
      "execution_count": 17,
      "outputs": [
        {
          "output_type": "stream",
          "text": [
            "cuda\n",
            "Device in use ==>  cuda\n"
          ],
          "name": "stdout"
        }
      ]
    },
    {
      "cell_type": "markdown",
      "metadata": {
        "id": "fGDBUvDhWYH_"
      },
      "source": [
        "## Model Training"
      ]
    },
    {
      "cell_type": "code",
      "metadata": {
        "colab": {
          "base_uri": "https://localhost:8080/"
        },
        "id": "Zj6M3sjTr7s2",
        "outputId": "bc094028-d573-4a57-be6a-e85012b75e84"
      },
      "source": [
        "train_losses = []\n",
        "test_losses = []\n",
        "train_acc = []\n",
        "test_acc = []\n",
        "\n",
        "EPOCHS = 100\n",
        "\n",
        "device = misc.get_device_info()\n",
        "\n",
        "model =  cifar10_Net(dropout_value=0.04).to(device)\n",
        "optimizer = optim.SGD(model.parameters(), lr=0.05, momentum=0.9)\n",
        "# scheduler = StepLR(optimizer, step_size=5, gamma=0.1)\n",
        "scheduler = OneCycleLR(optimizer, max_lr=0.05, epochs=EPOCHS, steps_per_epoch=len(train_loader))\n",
        "\n",
        "model.eval()\n",
        "for epoch in range(EPOCHS):\n",
        "    print(\"EPOCH:\", epoch)\n",
        "    train.set_train(model, device, train_loader, optimizer, epoch, train_losses, train_acc)\n",
        "    scheduler.step()\n",
        "    test.set_test(model, device, test_loader, test_acc, test_losses)"
      ],
      "execution_count": 18,
      "outputs": [
        {
          "output_type": "stream",
          "text": [
            "\r  0%|          | 0/391 [00:00<?, ?it/s]"
          ],
          "name": "stderr"
        },
        {
          "output_type": "stream",
          "text": [
            "cuda\n",
            "EPOCH: 0\n"
          ],
          "name": "stdout"
        },
        {
          "output_type": "stream",
          "text": [
            "/content/drive/MyDrive/Colab Notebooks/EVA_6/S7_Advanced/src/model/cifar10_model.py:91: UserWarning: Implicit dimension choice for log_softmax has been deprecated. Change the call to include dim=X as an argument.\n",
            "  return F.log_softmax(x)\n",
            "Loss=1.470875859260559 Batch_id=390 Accuracy=35.43: 100%|██████████| 391/391 [00:11<00:00, 32.69it/s]\n",
            "  0%|          | 0/391 [00:00<?, ?it/s]"
          ],
          "name": "stderr"
        },
        {
          "output_type": "stream",
          "text": [
            "\n",
            "Test set: Average loss: 0.0111, Accuracy: 4811/10000 (48.11%)\n",
            "\n",
            "EPOCH: 1\n"
          ],
          "name": "stdout"
        },
        {
          "output_type": "stream",
          "text": [
            "Loss=1.524038314819336 Batch_id=390 Accuracy=48.55: 100%|██████████| 391/391 [00:11<00:00, 32.65it/s]\n",
            "  0%|          | 0/391 [00:00<?, ?it/s]"
          ],
          "name": "stderr"
        },
        {
          "output_type": "stream",
          "text": [
            "\n",
            "Test set: Average loss: 0.0094, Accuracy: 5683/10000 (56.83%)\n",
            "\n",
            "EPOCH: 2\n"
          ],
          "name": "stdout"
        },
        {
          "output_type": "stream",
          "text": [
            "Loss=1.3654601573944092 Batch_id=390 Accuracy=54.35: 100%|██████████| 391/391 [00:12<00:00, 32.53it/s]\n",
            "  0%|          | 0/391 [00:00<?, ?it/s]"
          ],
          "name": "stderr"
        },
        {
          "output_type": "stream",
          "text": [
            "\n",
            "Test set: Average loss: 0.0084, Accuracy: 6147/10000 (61.47%)\n",
            "\n",
            "EPOCH: 3\n"
          ],
          "name": "stdout"
        },
        {
          "output_type": "stream",
          "text": [
            "Loss=0.9711434245109558 Batch_id=390 Accuracy=58.54: 100%|██████████| 391/391 [00:12<00:00, 32.58it/s]\n",
            "  0%|          | 0/391 [00:00<?, ?it/s]"
          ],
          "name": "stderr"
        },
        {
          "output_type": "stream",
          "text": [
            "\n",
            "Test set: Average loss: 0.0078, Accuracy: 6467/10000 (64.67%)\n",
            "\n",
            "EPOCH: 4\n"
          ],
          "name": "stdout"
        },
        {
          "output_type": "stream",
          "text": [
            "Loss=1.1588375568389893 Batch_id=390 Accuracy=61.91: 100%|██████████| 391/391 [00:12<00:00, 32.15it/s]\n",
            "  0%|          | 0/391 [00:00<?, ?it/s]"
          ],
          "name": "stderr"
        },
        {
          "output_type": "stream",
          "text": [
            "\n",
            "Test set: Average loss: 0.0074, Accuracy: 6723/10000 (67.23%)\n",
            "\n",
            "EPOCH: 5\n"
          ],
          "name": "stdout"
        },
        {
          "output_type": "stream",
          "text": [
            "Loss=1.0265977382659912 Batch_id=390 Accuracy=64.23: 100%|██████████| 391/391 [00:12<00:00, 32.52it/s]\n",
            "  0%|          | 0/391 [00:00<?, ?it/s]"
          ],
          "name": "stderr"
        },
        {
          "output_type": "stream",
          "text": [
            "\n",
            "Test set: Average loss: 0.0071, Accuracy: 6799/10000 (67.99%)\n",
            "\n",
            "EPOCH: 6\n"
          ],
          "name": "stdout"
        },
        {
          "output_type": "stream",
          "text": [
            "Loss=1.068677306175232 Batch_id=390 Accuracy=66.46: 100%|██████████| 391/391 [00:11<00:00, 32.78it/s]\n",
            "  0%|          | 0/391 [00:00<?, ?it/s]"
          ],
          "name": "stderr"
        },
        {
          "output_type": "stream",
          "text": [
            "\n",
            "Test set: Average loss: 0.0064, Accuracy: 7173/10000 (71.73%)\n",
            "\n",
            "EPOCH: 7\n"
          ],
          "name": "stdout"
        },
        {
          "output_type": "stream",
          "text": [
            "Loss=0.9649202227592468 Batch_id=390 Accuracy=68.12: 100%|██████████| 391/391 [00:12<00:00, 32.21it/s]\n",
            "  0%|          | 0/391 [00:00<?, ?it/s]"
          ],
          "name": "stderr"
        },
        {
          "output_type": "stream",
          "text": [
            "\n",
            "Test set: Average loss: 0.0061, Accuracy: 7326/10000 (73.26%)\n",
            "\n",
            "EPOCH: 8\n"
          ],
          "name": "stdout"
        },
        {
          "output_type": "stream",
          "text": [
            "Loss=0.7329605221748352 Batch_id=390 Accuracy=69.42: 100%|██████████| 391/391 [00:12<00:00, 32.33it/s]\n",
            "  0%|          | 0/391 [00:00<?, ?it/s]"
          ],
          "name": "stderr"
        },
        {
          "output_type": "stream",
          "text": [
            "\n",
            "Test set: Average loss: 0.0063, Accuracy: 7255/10000 (72.55%)\n",
            "\n",
            "EPOCH: 9\n"
          ],
          "name": "stdout"
        },
        {
          "output_type": "stream",
          "text": [
            "Loss=0.8329048156738281 Batch_id=390 Accuracy=70.23: 100%|██████████| 391/391 [00:12<00:00, 32.29it/s]\n",
            "  0%|          | 0/391 [00:00<?, ?it/s]"
          ],
          "name": "stderr"
        },
        {
          "output_type": "stream",
          "text": [
            "\n",
            "Test set: Average loss: 0.0058, Accuracy: 7456/10000 (74.56%)\n",
            "\n",
            "EPOCH: 10\n"
          ],
          "name": "stdout"
        },
        {
          "output_type": "stream",
          "text": [
            "Loss=0.6762688755989075 Batch_id=390 Accuracy=71.15: 100%|██████████| 391/391 [00:11<00:00, 32.64it/s]\n",
            "  0%|          | 0/391 [00:00<?, ?it/s]"
          ],
          "name": "stderr"
        },
        {
          "output_type": "stream",
          "text": [
            "\n",
            "Test set: Average loss: 0.0055, Accuracy: 7593/10000 (75.93%)\n",
            "\n",
            "EPOCH: 11\n"
          ],
          "name": "stdout"
        },
        {
          "output_type": "stream",
          "text": [
            "Loss=0.8457484245300293 Batch_id=390 Accuracy=72.03: 100%|██████████| 391/391 [00:11<00:00, 32.88it/s]\n",
            "  0%|          | 0/391 [00:00<?, ?it/s]"
          ],
          "name": "stderr"
        },
        {
          "output_type": "stream",
          "text": [
            "\n",
            "Test set: Average loss: 0.0054, Accuracy: 7622/10000 (76.22%)\n",
            "\n",
            "EPOCH: 12\n"
          ],
          "name": "stdout"
        },
        {
          "output_type": "stream",
          "text": [
            "Loss=0.6838598251342773 Batch_id=390 Accuracy=72.61: 100%|██████████| 391/391 [00:12<00:00, 32.46it/s]\n",
            "  0%|          | 0/391 [00:00<?, ?it/s]"
          ],
          "name": "stderr"
        },
        {
          "output_type": "stream",
          "text": [
            "\n",
            "Test set: Average loss: 0.0053, Accuracy: 7631/10000 (76.31%)\n",
            "\n",
            "EPOCH: 13\n"
          ],
          "name": "stdout"
        },
        {
          "output_type": "stream",
          "text": [
            "Loss=0.7772837281227112 Batch_id=390 Accuracy=73.34: 100%|██████████| 391/391 [00:11<00:00, 32.64it/s]\n",
            "  0%|          | 0/391 [00:00<?, ?it/s]"
          ],
          "name": "stderr"
        },
        {
          "output_type": "stream",
          "text": [
            "\n",
            "Test set: Average loss: 0.0052, Accuracy: 7741/10000 (77.41%)\n",
            "\n",
            "EPOCH: 14\n"
          ],
          "name": "stdout"
        },
        {
          "output_type": "stream",
          "text": [
            "Loss=0.6275482177734375 Batch_id=390 Accuracy=73.84: 100%|██████████| 391/391 [00:12<00:00, 32.17it/s]\n",
            "  0%|          | 0/391 [00:00<?, ?it/s]"
          ],
          "name": "stderr"
        },
        {
          "output_type": "stream",
          "text": [
            "\n",
            "Test set: Average loss: 0.0051, Accuracy: 7736/10000 (77.36%)\n",
            "\n",
            "EPOCH: 15\n"
          ],
          "name": "stdout"
        },
        {
          "output_type": "stream",
          "text": [
            "Loss=0.6470842361450195 Batch_id=390 Accuracy=74.42: 100%|██████████| 391/391 [00:12<00:00, 32.12it/s]\n",
            "  0%|          | 0/391 [00:00<?, ?it/s]"
          ],
          "name": "stderr"
        },
        {
          "output_type": "stream",
          "text": [
            "\n",
            "Test set: Average loss: 0.0050, Accuracy: 7747/10000 (77.47%)\n",
            "\n",
            "EPOCH: 16\n"
          ],
          "name": "stdout"
        },
        {
          "output_type": "stream",
          "text": [
            "Loss=0.9081050753593445 Batch_id=390 Accuracy=74.91: 100%|██████████| 391/391 [00:12<00:00, 32.08it/s]\n",
            "  0%|          | 0/391 [00:00<?, ?it/s]"
          ],
          "name": "stderr"
        },
        {
          "output_type": "stream",
          "text": [
            "\n",
            "Test set: Average loss: 0.0048, Accuracy: 7866/10000 (78.66%)\n",
            "\n",
            "EPOCH: 17\n"
          ],
          "name": "stdout"
        },
        {
          "output_type": "stream",
          "text": [
            "Loss=0.6007143259048462 Batch_id=390 Accuracy=75.29: 100%|██████████| 391/391 [00:12<00:00, 31.64it/s]\n",
            "  0%|          | 0/391 [00:00<?, ?it/s]"
          ],
          "name": "stderr"
        },
        {
          "output_type": "stream",
          "text": [
            "\n",
            "Test set: Average loss: 0.0050, Accuracy: 7776/10000 (77.76%)\n",
            "\n",
            "EPOCH: 18\n"
          ],
          "name": "stdout"
        },
        {
          "output_type": "stream",
          "text": [
            "Loss=0.7940893173217773 Batch_id=390 Accuracy=75.41: 100%|██████████| 391/391 [00:12<00:00, 31.54it/s]\n",
            "  0%|          | 0/391 [00:00<?, ?it/s]"
          ],
          "name": "stderr"
        },
        {
          "output_type": "stream",
          "text": [
            "\n",
            "Test set: Average loss: 0.0047, Accuracy: 7985/10000 (79.85%)\n",
            "\n",
            "EPOCH: 19\n"
          ],
          "name": "stdout"
        },
        {
          "output_type": "stream",
          "text": [
            "Loss=0.5765699148178101 Batch_id=390 Accuracy=76.03: 100%|██████████| 391/391 [00:12<00:00, 31.30it/s]\n",
            "  0%|          | 0/391 [00:00<?, ?it/s]"
          ],
          "name": "stderr"
        },
        {
          "output_type": "stream",
          "text": [
            "\n",
            "Test set: Average loss: 0.0046, Accuracy: 7986/10000 (79.86%)\n",
            "\n",
            "EPOCH: 20\n"
          ],
          "name": "stdout"
        },
        {
          "output_type": "stream",
          "text": [
            "Loss=0.4697103500366211 Batch_id=390 Accuracy=75.90: 100%|██████████| 391/391 [00:12<00:00, 32.26it/s]\n",
            "  0%|          | 0/391 [00:00<?, ?it/s]"
          ],
          "name": "stderr"
        },
        {
          "output_type": "stream",
          "text": [
            "\n",
            "Test set: Average loss: 0.0047, Accuracy: 7921/10000 (79.21%)\n",
            "\n",
            "EPOCH: 21\n"
          ],
          "name": "stdout"
        },
        {
          "output_type": "stream",
          "text": [
            "Loss=0.5743187665939331 Batch_id=390 Accuracy=76.42: 100%|██████████| 391/391 [00:12<00:00, 32.46it/s]\n",
            "  0%|          | 0/391 [00:00<?, ?it/s]"
          ],
          "name": "stderr"
        },
        {
          "output_type": "stream",
          "text": [
            "\n",
            "Test set: Average loss: 0.0045, Accuracy: 8066/10000 (80.66%)\n",
            "\n",
            "EPOCH: 22\n"
          ],
          "name": "stdout"
        },
        {
          "output_type": "stream",
          "text": [
            "Loss=0.6616204977035522 Batch_id=390 Accuracy=76.64: 100%|██████████| 391/391 [00:12<00:00, 32.22it/s]\n",
            "  0%|          | 0/391 [00:00<?, ?it/s]"
          ],
          "name": "stderr"
        },
        {
          "output_type": "stream",
          "text": [
            "\n",
            "Test set: Average loss: 0.0047, Accuracy: 7940/10000 (79.40%)\n",
            "\n",
            "EPOCH: 23\n"
          ],
          "name": "stdout"
        },
        {
          "output_type": "stream",
          "text": [
            "Loss=0.6745471954345703 Batch_id=390 Accuracy=77.39: 100%|██████████| 391/391 [00:11<00:00, 32.70it/s]\n",
            "  0%|          | 0/391 [00:00<?, ?it/s]"
          ],
          "name": "stderr"
        },
        {
          "output_type": "stream",
          "text": [
            "\n",
            "Test set: Average loss: 0.0046, Accuracy: 8004/10000 (80.04%)\n",
            "\n",
            "EPOCH: 24\n"
          ],
          "name": "stdout"
        },
        {
          "output_type": "stream",
          "text": [
            "Loss=0.5841764211654663 Batch_id=390 Accuracy=77.43: 100%|██████████| 391/391 [00:11<00:00, 32.66it/s]\n",
            "  0%|          | 0/391 [00:00<?, ?it/s]"
          ],
          "name": "stderr"
        },
        {
          "output_type": "stream",
          "text": [
            "\n",
            "Test set: Average loss: 0.0046, Accuracy: 8016/10000 (80.16%)\n",
            "\n",
            "EPOCH: 25\n"
          ],
          "name": "stdout"
        },
        {
          "output_type": "stream",
          "text": [
            "Loss=0.7185664772987366 Batch_id=390 Accuracy=77.39: 100%|██████████| 391/391 [00:11<00:00, 32.67it/s]\n",
            "  0%|          | 0/391 [00:00<?, ?it/s]"
          ],
          "name": "stderr"
        },
        {
          "output_type": "stream",
          "text": [
            "\n",
            "Test set: Average loss: 0.0045, Accuracy: 8076/10000 (80.76%)\n",
            "\n",
            "EPOCH: 26\n"
          ],
          "name": "stdout"
        },
        {
          "output_type": "stream",
          "text": [
            "Loss=0.5790735483169556 Batch_id=390 Accuracy=77.71: 100%|██████████| 391/391 [00:11<00:00, 32.96it/s]\n",
            "  0%|          | 0/391 [00:00<?, ?it/s]"
          ],
          "name": "stderr"
        },
        {
          "output_type": "stream",
          "text": [
            "\n",
            "Test set: Average loss: 0.0045, Accuracy: 8012/10000 (80.12%)\n",
            "\n",
            "EPOCH: 27\n"
          ],
          "name": "stdout"
        },
        {
          "output_type": "stream",
          "text": [
            "Loss=0.7317579984664917 Batch_id=390 Accuracy=78.25: 100%|██████████| 391/391 [00:12<00:00, 32.06it/s]\n",
            "  0%|          | 0/391 [00:00<?, ?it/s]"
          ],
          "name": "stderr"
        },
        {
          "output_type": "stream",
          "text": [
            "\n",
            "Test set: Average loss: 0.0045, Accuracy: 8030/10000 (80.30%)\n",
            "\n",
            "EPOCH: 28\n"
          ],
          "name": "stdout"
        },
        {
          "output_type": "stream",
          "text": [
            "Loss=0.5878785848617554 Batch_id=390 Accuracy=78.34: 100%|██████████| 391/391 [00:12<00:00, 32.52it/s]\n",
            "  0%|          | 0/391 [00:00<?, ?it/s]"
          ],
          "name": "stderr"
        },
        {
          "output_type": "stream",
          "text": [
            "\n",
            "Test set: Average loss: 0.0044, Accuracy: 8096/10000 (80.96%)\n",
            "\n",
            "EPOCH: 29\n"
          ],
          "name": "stdout"
        },
        {
          "output_type": "stream",
          "text": [
            "Loss=0.48354998230934143 Batch_id=390 Accuracy=78.58: 100%|██████████| 391/391 [00:12<00:00, 32.25it/s]\n",
            "  0%|          | 0/391 [00:00<?, ?it/s]"
          ],
          "name": "stderr"
        },
        {
          "output_type": "stream",
          "text": [
            "\n",
            "Test set: Average loss: 0.0044, Accuracy: 8063/10000 (80.63%)\n",
            "\n",
            "EPOCH: 30\n"
          ],
          "name": "stdout"
        },
        {
          "output_type": "stream",
          "text": [
            "Loss=0.5593612194061279 Batch_id=390 Accuracy=78.76: 100%|██████████| 391/391 [00:12<00:00, 32.07it/s]\n",
            "  0%|          | 0/391 [00:00<?, ?it/s]"
          ],
          "name": "stderr"
        },
        {
          "output_type": "stream",
          "text": [
            "\n",
            "Test set: Average loss: 0.0044, Accuracy: 8075/10000 (80.75%)\n",
            "\n",
            "EPOCH: 31\n"
          ],
          "name": "stdout"
        },
        {
          "output_type": "stream",
          "text": [
            "Loss=0.5400346517562866 Batch_id=390 Accuracy=79.08: 100%|██████████| 391/391 [00:12<00:00, 31.95it/s]\n",
            "  0%|          | 0/391 [00:00<?, ?it/s]"
          ],
          "name": "stderr"
        },
        {
          "output_type": "stream",
          "text": [
            "\n",
            "Test set: Average loss: 0.0043, Accuracy: 8166/10000 (81.66%)\n",
            "\n",
            "EPOCH: 32\n"
          ],
          "name": "stdout"
        },
        {
          "output_type": "stream",
          "text": [
            "Loss=0.7592662572860718 Batch_id=390 Accuracy=79.06: 100%|██████████| 391/391 [00:12<00:00, 31.87it/s]\n",
            "  0%|          | 0/391 [00:00<?, ?it/s]"
          ],
          "name": "stderr"
        },
        {
          "output_type": "stream",
          "text": [
            "\n",
            "Test set: Average loss: 0.0043, Accuracy: 8128/10000 (81.28%)\n",
            "\n",
            "EPOCH: 33\n"
          ],
          "name": "stdout"
        },
        {
          "output_type": "stream",
          "text": [
            "Loss=0.6364043354988098 Batch_id=390 Accuracy=79.20: 100%|██████████| 391/391 [00:12<00:00, 32.40it/s]\n",
            "  0%|          | 0/391 [00:00<?, ?it/s]"
          ],
          "name": "stderr"
        },
        {
          "output_type": "stream",
          "text": [
            "\n",
            "Test set: Average loss: 0.0043, Accuracy: 8161/10000 (81.61%)\n",
            "\n",
            "EPOCH: 34\n"
          ],
          "name": "stdout"
        },
        {
          "output_type": "stream",
          "text": [
            "Loss=0.540069043636322 Batch_id=390 Accuracy=79.67: 100%|██████████| 391/391 [00:12<00:00, 32.45it/s]\n",
            "  0%|          | 0/391 [00:00<?, ?it/s]"
          ],
          "name": "stderr"
        },
        {
          "output_type": "stream",
          "text": [
            "\n",
            "Test set: Average loss: 0.0041, Accuracy: 8199/10000 (81.99%)\n",
            "\n",
            "EPOCH: 35\n"
          ],
          "name": "stdout"
        },
        {
          "output_type": "stream",
          "text": [
            "Loss=0.6309528946876526 Batch_id=390 Accuracy=79.66: 100%|██████████| 391/391 [00:11<00:00, 32.62it/s]\n",
            "  0%|          | 0/391 [00:00<?, ?it/s]"
          ],
          "name": "stderr"
        },
        {
          "output_type": "stream",
          "text": [
            "\n",
            "Test set: Average loss: 0.0042, Accuracy: 8195/10000 (81.95%)\n",
            "\n",
            "EPOCH: 36\n"
          ],
          "name": "stdout"
        },
        {
          "output_type": "stream",
          "text": [
            "Loss=0.6048515439033508 Batch_id=390 Accuracy=80.22: 100%|██████████| 391/391 [00:12<00:00, 32.37it/s]\n",
            "  0%|          | 0/391 [00:00<?, ?it/s]"
          ],
          "name": "stderr"
        },
        {
          "output_type": "stream",
          "text": [
            "\n",
            "Test set: Average loss: 0.0042, Accuracy: 8166/10000 (81.66%)\n",
            "\n",
            "EPOCH: 37\n"
          ],
          "name": "stdout"
        },
        {
          "output_type": "stream",
          "text": [
            "Loss=0.4623596668243408 Batch_id=390 Accuracy=80.20: 100%|██████████| 391/391 [00:12<00:00, 32.20it/s]\n",
            "  0%|          | 0/391 [00:00<?, ?it/s]"
          ],
          "name": "stderr"
        },
        {
          "output_type": "stream",
          "text": [
            "\n",
            "Test set: Average loss: 0.0040, Accuracy: 8280/10000 (82.80%)\n",
            "\n",
            "EPOCH: 38\n"
          ],
          "name": "stdout"
        },
        {
          "output_type": "stream",
          "text": [
            "Loss=0.7105323672294617 Batch_id=390 Accuracy=80.07: 100%|██████████| 391/391 [00:12<00:00, 32.46it/s]\n",
            "  0%|          | 0/391 [00:00<?, ?it/s]"
          ],
          "name": "stderr"
        },
        {
          "output_type": "stream",
          "text": [
            "\n",
            "Test set: Average loss: 0.0042, Accuracy: 8201/10000 (82.01%)\n",
            "\n",
            "EPOCH: 39\n"
          ],
          "name": "stdout"
        },
        {
          "output_type": "stream",
          "text": [
            "Loss=0.6278171539306641 Batch_id=390 Accuracy=80.33: 100%|██████████| 391/391 [00:12<00:00, 32.28it/s]\n",
            "  0%|          | 0/391 [00:00<?, ?it/s]"
          ],
          "name": "stderr"
        },
        {
          "output_type": "stream",
          "text": [
            "\n",
            "Test set: Average loss: 0.0041, Accuracy: 8260/10000 (82.60%)\n",
            "\n",
            "EPOCH: 40\n"
          ],
          "name": "stdout"
        },
        {
          "output_type": "stream",
          "text": [
            "Loss=0.5390291810035706 Batch_id=390 Accuracy=80.33: 100%|██████████| 391/391 [00:12<00:00, 32.17it/s]\n",
            "  0%|          | 0/391 [00:00<?, ?it/s]"
          ],
          "name": "stderr"
        },
        {
          "output_type": "stream",
          "text": [
            "\n",
            "Test set: Average loss: 0.0041, Accuracy: 8263/10000 (82.63%)\n",
            "\n",
            "EPOCH: 41\n"
          ],
          "name": "stdout"
        },
        {
          "output_type": "stream",
          "text": [
            "Loss=0.5689155459403992 Batch_id=390 Accuracy=80.54: 100%|██████████| 391/391 [00:12<00:00, 31.85it/s]\n",
            "  0%|          | 0/391 [00:00<?, ?it/s]"
          ],
          "name": "stderr"
        },
        {
          "output_type": "stream",
          "text": [
            "\n",
            "Test set: Average loss: 0.0041, Accuracy: 8224/10000 (82.24%)\n",
            "\n",
            "EPOCH: 42\n"
          ],
          "name": "stdout"
        },
        {
          "output_type": "stream",
          "text": [
            "Loss=0.32528790831565857 Batch_id=390 Accuracy=80.57: 100%|██████████| 391/391 [00:12<00:00, 31.78it/s]\n",
            "  0%|          | 0/391 [00:00<?, ?it/s]"
          ],
          "name": "stderr"
        },
        {
          "output_type": "stream",
          "text": [
            "\n",
            "Test set: Average loss: 0.0042, Accuracy: 8184/10000 (81.84%)\n",
            "\n",
            "EPOCH: 43\n"
          ],
          "name": "stdout"
        },
        {
          "output_type": "stream",
          "text": [
            "Loss=0.4610653817653656 Batch_id=390 Accuracy=80.59: 100%|██████████| 391/391 [00:12<00:00, 32.18it/s]\n",
            "  0%|          | 0/391 [00:00<?, ?it/s]"
          ],
          "name": "stderr"
        },
        {
          "output_type": "stream",
          "text": [
            "\n",
            "Test set: Average loss: 0.0039, Accuracy: 8312/10000 (83.12%)\n",
            "\n",
            "EPOCH: 44\n"
          ],
          "name": "stdout"
        },
        {
          "output_type": "stream",
          "text": [
            "Loss=0.6917456388473511 Batch_id=390 Accuracy=80.79: 100%|██████████| 391/391 [00:12<00:00, 32.19it/s]\n",
            "  0%|          | 0/391 [00:00<?, ?it/s]"
          ],
          "name": "stderr"
        },
        {
          "output_type": "stream",
          "text": [
            "\n",
            "Test set: Average loss: 0.0040, Accuracy: 8260/10000 (82.60%)\n",
            "\n",
            "EPOCH: 45\n"
          ],
          "name": "stdout"
        },
        {
          "output_type": "stream",
          "text": [
            "Loss=0.6547260880470276 Batch_id=390 Accuracy=80.88: 100%|██████████| 391/391 [00:12<00:00, 32.42it/s]\n",
            "  0%|          | 0/391 [00:00<?, ?it/s]"
          ],
          "name": "stderr"
        },
        {
          "output_type": "stream",
          "text": [
            "\n",
            "Test set: Average loss: 0.0039, Accuracy: 8288/10000 (82.88%)\n",
            "\n",
            "EPOCH: 46\n"
          ],
          "name": "stdout"
        },
        {
          "output_type": "stream",
          "text": [
            "Loss=0.5954663753509521 Batch_id=390 Accuracy=81.07: 100%|██████████| 391/391 [00:12<00:00, 32.46it/s]\n",
            "  0%|          | 0/391 [00:00<?, ?it/s]"
          ],
          "name": "stderr"
        },
        {
          "output_type": "stream",
          "text": [
            "\n",
            "Test set: Average loss: 0.0039, Accuracy: 8324/10000 (83.24%)\n",
            "\n",
            "EPOCH: 47\n"
          ],
          "name": "stdout"
        },
        {
          "output_type": "stream",
          "text": [
            "Loss=0.6276587247848511 Batch_id=390 Accuracy=81.24: 100%|██████████| 391/391 [00:12<00:00, 32.01it/s]\n",
            "  0%|          | 0/391 [00:00<?, ?it/s]"
          ],
          "name": "stderr"
        },
        {
          "output_type": "stream",
          "text": [
            "\n",
            "Test set: Average loss: 0.0038, Accuracy: 8363/10000 (83.63%)\n",
            "\n",
            "EPOCH: 48\n"
          ],
          "name": "stdout"
        },
        {
          "output_type": "stream",
          "text": [
            "Loss=0.5739363431930542 Batch_id=390 Accuracy=81.13: 100%|██████████| 391/391 [00:12<00:00, 32.45it/s]\n",
            "  0%|          | 0/391 [00:00<?, ?it/s]"
          ],
          "name": "stderr"
        },
        {
          "output_type": "stream",
          "text": [
            "\n",
            "Test set: Average loss: 0.0039, Accuracy: 8347/10000 (83.47%)\n",
            "\n",
            "EPOCH: 49\n"
          ],
          "name": "stdout"
        },
        {
          "output_type": "stream",
          "text": [
            "Loss=0.41849398612976074 Batch_id=390 Accuracy=81.25: 100%|██████████| 391/391 [00:12<00:00, 31.73it/s]\n",
            "  0%|          | 0/391 [00:00<?, ?it/s]"
          ],
          "name": "stderr"
        },
        {
          "output_type": "stream",
          "text": [
            "\n",
            "Test set: Average loss: 0.0040, Accuracy: 8318/10000 (83.18%)\n",
            "\n",
            "EPOCH: 50\n"
          ],
          "name": "stdout"
        },
        {
          "output_type": "stream",
          "text": [
            "Loss=0.4274443984031677 Batch_id=390 Accuracy=81.24: 100%|██████████| 391/391 [00:12<00:00, 31.39it/s]\n",
            "  0%|          | 0/391 [00:00<?, ?it/s]"
          ],
          "name": "stderr"
        },
        {
          "output_type": "stream",
          "text": [
            "\n",
            "Test set: Average loss: 0.0038, Accuracy: 8361/10000 (83.61%)\n",
            "\n",
            "EPOCH: 51\n"
          ],
          "name": "stdout"
        },
        {
          "output_type": "stream",
          "text": [
            "Loss=0.6337906718254089 Batch_id=390 Accuracy=81.58: 100%|██████████| 391/391 [00:12<00:00, 31.81it/s]\n",
            "  0%|          | 0/391 [00:00<?, ?it/s]"
          ],
          "name": "stderr"
        },
        {
          "output_type": "stream",
          "text": [
            "\n",
            "Test set: Average loss: 0.0041, Accuracy: 8266/10000 (82.66%)\n",
            "\n",
            "EPOCH: 52\n"
          ],
          "name": "stdout"
        },
        {
          "output_type": "stream",
          "text": [
            "Loss=0.4884464740753174 Batch_id=390 Accuracy=81.65: 100%|██████████| 391/391 [00:12<00:00, 31.45it/s]\n",
            "  0%|          | 0/391 [00:00<?, ?it/s]"
          ],
          "name": "stderr"
        },
        {
          "output_type": "stream",
          "text": [
            "\n",
            "Test set: Average loss: 0.0039, Accuracy: 8356/10000 (83.56%)\n",
            "\n",
            "EPOCH: 53\n"
          ],
          "name": "stdout"
        },
        {
          "output_type": "stream",
          "text": [
            "Loss=0.31598421931266785 Batch_id=390 Accuracy=81.87: 100%|██████████| 391/391 [00:12<00:00, 32.12it/s]\n",
            "  0%|          | 0/391 [00:00<?, ?it/s]"
          ],
          "name": "stderr"
        },
        {
          "output_type": "stream",
          "text": [
            "\n",
            "Test set: Average loss: 0.0040, Accuracy: 8298/10000 (82.98%)\n",
            "\n",
            "EPOCH: 54\n"
          ],
          "name": "stdout"
        },
        {
          "output_type": "stream",
          "text": [
            "Loss=0.4129873216152191 Batch_id=390 Accuracy=81.83: 100%|██████████| 391/391 [00:12<00:00, 32.14it/s]\n",
            "  0%|          | 0/391 [00:00<?, ?it/s]"
          ],
          "name": "stderr"
        },
        {
          "output_type": "stream",
          "text": [
            "\n",
            "Test set: Average loss: 0.0037, Accuracy: 8423/10000 (84.23%)\n",
            "\n",
            "EPOCH: 55\n"
          ],
          "name": "stdout"
        },
        {
          "output_type": "stream",
          "text": [
            "Loss=0.5140709280967712 Batch_id=390 Accuracy=82.24: 100%|██████████| 391/391 [00:12<00:00, 31.86it/s]\n",
            "  0%|          | 0/391 [00:00<?, ?it/s]"
          ],
          "name": "stderr"
        },
        {
          "output_type": "stream",
          "text": [
            "\n",
            "Test set: Average loss: 0.0038, Accuracy: 8405/10000 (84.05%)\n",
            "\n",
            "EPOCH: 56\n"
          ],
          "name": "stdout"
        },
        {
          "output_type": "stream",
          "text": [
            "Loss=0.5969056487083435 Batch_id=390 Accuracy=81.99: 100%|██████████| 391/391 [00:12<00:00, 32.00it/s]\n",
            "  0%|          | 0/391 [00:00<?, ?it/s]"
          ],
          "name": "stderr"
        },
        {
          "output_type": "stream",
          "text": [
            "\n",
            "Test set: Average loss: 0.0038, Accuracy: 8406/10000 (84.06%)\n",
            "\n",
            "EPOCH: 57\n"
          ],
          "name": "stdout"
        },
        {
          "output_type": "stream",
          "text": [
            "Loss=0.688796877861023 Batch_id=390 Accuracy=82.22: 100%|██████████| 391/391 [00:12<00:00, 31.85it/s]\n",
            "  0%|          | 0/391 [00:00<?, ?it/s]"
          ],
          "name": "stderr"
        },
        {
          "output_type": "stream",
          "text": [
            "\n",
            "Test set: Average loss: 0.0038, Accuracy: 8376/10000 (83.76%)\n",
            "\n",
            "EPOCH: 58\n"
          ],
          "name": "stdout"
        },
        {
          "output_type": "stream",
          "text": [
            "Loss=0.6123906373977661 Batch_id=390 Accuracy=82.46: 100%|██████████| 391/391 [00:12<00:00, 31.91it/s]\n",
            "  0%|          | 0/391 [00:00<?, ?it/s]"
          ],
          "name": "stderr"
        },
        {
          "output_type": "stream",
          "text": [
            "\n",
            "Test set: Average loss: 0.0040, Accuracy: 8312/10000 (83.12%)\n",
            "\n",
            "EPOCH: 59\n"
          ],
          "name": "stdout"
        },
        {
          "output_type": "stream",
          "text": [
            "Loss=0.4055207669734955 Batch_id=390 Accuracy=82.30: 100%|██████████| 391/391 [00:12<00:00, 31.57it/s]\n",
            "  0%|          | 0/391 [00:00<?, ?it/s]"
          ],
          "name": "stderr"
        },
        {
          "output_type": "stream",
          "text": [
            "\n",
            "Test set: Average loss: 0.0041, Accuracy: 8304/10000 (83.04%)\n",
            "\n",
            "EPOCH: 60\n"
          ],
          "name": "stdout"
        },
        {
          "output_type": "stream",
          "text": [
            "Loss=0.5319609045982361 Batch_id=390 Accuracy=82.26: 100%|██████████| 391/391 [00:12<00:00, 31.74it/s]\n",
            "  0%|          | 0/391 [00:00<?, ?it/s]"
          ],
          "name": "stderr"
        },
        {
          "output_type": "stream",
          "text": [
            "\n",
            "Test set: Average loss: 0.0039, Accuracy: 8368/10000 (83.68%)\n",
            "\n",
            "EPOCH: 61\n"
          ],
          "name": "stdout"
        },
        {
          "output_type": "stream",
          "text": [
            "Loss=0.4315970838069916 Batch_id=390 Accuracy=82.57: 100%|██████████| 391/391 [00:12<00:00, 31.91it/s]\n",
            "  0%|          | 0/391 [00:00<?, ?it/s]"
          ],
          "name": "stderr"
        },
        {
          "output_type": "stream",
          "text": [
            "\n",
            "Test set: Average loss: 0.0039, Accuracy: 8335/10000 (83.35%)\n",
            "\n",
            "EPOCH: 62\n"
          ],
          "name": "stdout"
        },
        {
          "output_type": "stream",
          "text": [
            "Loss=0.4348190724849701 Batch_id=390 Accuracy=82.48: 100%|██████████| 391/391 [00:12<00:00, 32.03it/s]\n",
            "  0%|          | 0/391 [00:00<?, ?it/s]"
          ],
          "name": "stderr"
        },
        {
          "output_type": "stream",
          "text": [
            "\n",
            "Test set: Average loss: 0.0038, Accuracy: 8384/10000 (83.84%)\n",
            "\n",
            "EPOCH: 63\n"
          ],
          "name": "stdout"
        },
        {
          "output_type": "stream",
          "text": [
            "Loss=0.3940657675266266 Batch_id=390 Accuracy=82.71: 100%|██████████| 391/391 [00:12<00:00, 32.00it/s]\n",
            "  0%|          | 0/391 [00:00<?, ?it/s]"
          ],
          "name": "stderr"
        },
        {
          "output_type": "stream",
          "text": [
            "\n",
            "Test set: Average loss: 0.0038, Accuracy: 8434/10000 (84.34%)\n",
            "\n",
            "EPOCH: 64\n"
          ],
          "name": "stdout"
        },
        {
          "output_type": "stream",
          "text": [
            "Loss=0.3940579891204834 Batch_id=390 Accuracy=82.58: 100%|██████████| 391/391 [00:12<00:00, 31.37it/s]\n",
            "  0%|          | 0/391 [00:00<?, ?it/s]"
          ],
          "name": "stderr"
        },
        {
          "output_type": "stream",
          "text": [
            "\n",
            "Test set: Average loss: 0.0038, Accuracy: 8422/10000 (84.22%)\n",
            "\n",
            "EPOCH: 65\n"
          ],
          "name": "stdout"
        },
        {
          "output_type": "stream",
          "text": [
            "Loss=0.3879551887512207 Batch_id=390 Accuracy=82.82: 100%|██████████| 391/391 [00:12<00:00, 31.47it/s]\n",
            "  0%|          | 0/391 [00:00<?, ?it/s]"
          ],
          "name": "stderr"
        },
        {
          "output_type": "stream",
          "text": [
            "\n",
            "Test set: Average loss: 0.0039, Accuracy: 8351/10000 (83.51%)\n",
            "\n",
            "EPOCH: 66\n"
          ],
          "name": "stdout"
        },
        {
          "output_type": "stream",
          "text": [
            "Loss=0.7178897857666016 Batch_id=390 Accuracy=82.98: 100%|██████████| 391/391 [00:12<00:00, 31.96it/s]\n",
            "  0%|          | 0/391 [00:00<?, ?it/s]"
          ],
          "name": "stderr"
        },
        {
          "output_type": "stream",
          "text": [
            "\n",
            "Test set: Average loss: 0.0038, Accuracy: 8365/10000 (83.65%)\n",
            "\n",
            "EPOCH: 67\n"
          ],
          "name": "stdout"
        },
        {
          "output_type": "stream",
          "text": [
            "Loss=0.49008792638778687 Batch_id=390 Accuracy=82.86: 100%|██████████| 391/391 [00:12<00:00, 31.54it/s]\n",
            "  0%|          | 0/391 [00:00<?, ?it/s]"
          ],
          "name": "stderr"
        },
        {
          "output_type": "stream",
          "text": [
            "\n",
            "Test set: Average loss: 0.0037, Accuracy: 8464/10000 (84.64%)\n",
            "\n",
            "EPOCH: 68\n"
          ],
          "name": "stdout"
        },
        {
          "output_type": "stream",
          "text": [
            "Loss=0.5065403580665588 Batch_id=390 Accuracy=82.84: 100%|██████████| 391/391 [00:12<00:00, 31.88it/s]\n",
            "  0%|          | 0/391 [00:00<?, ?it/s]"
          ],
          "name": "stderr"
        },
        {
          "output_type": "stream",
          "text": [
            "\n",
            "Test set: Average loss: 0.0038, Accuracy: 8437/10000 (84.37%)\n",
            "\n",
            "EPOCH: 69\n"
          ],
          "name": "stdout"
        },
        {
          "output_type": "stream",
          "text": [
            "Loss=0.5728487372398376 Batch_id=390 Accuracy=83.04: 100%|██████████| 391/391 [00:12<00:00, 31.66it/s]\n",
            "  0%|          | 0/391 [00:00<?, ?it/s]"
          ],
          "name": "stderr"
        },
        {
          "output_type": "stream",
          "text": [
            "\n",
            "Test set: Average loss: 0.0038, Accuracy: 8439/10000 (84.39%)\n",
            "\n",
            "EPOCH: 70\n"
          ],
          "name": "stdout"
        },
        {
          "output_type": "stream",
          "text": [
            "Loss=0.5317122936248779 Batch_id=390 Accuracy=83.22: 100%|██████████| 391/391 [00:12<00:00, 31.51it/s]\n",
            "  0%|          | 0/391 [00:00<?, ?it/s]"
          ],
          "name": "stderr"
        },
        {
          "output_type": "stream",
          "text": [
            "\n",
            "Test set: Average loss: 0.0038, Accuracy: 8392/10000 (83.92%)\n",
            "\n",
            "EPOCH: 71\n"
          ],
          "name": "stdout"
        },
        {
          "output_type": "stream",
          "text": [
            "Loss=0.5074413418769836 Batch_id=390 Accuracy=83.33: 100%|██████████| 391/391 [00:12<00:00, 31.77it/s]\n",
            "  0%|          | 0/391 [00:00<?, ?it/s]"
          ],
          "name": "stderr"
        },
        {
          "output_type": "stream",
          "text": [
            "\n",
            "Test set: Average loss: 0.0038, Accuracy: 8438/10000 (84.38%)\n",
            "\n",
            "EPOCH: 72\n"
          ],
          "name": "stdout"
        },
        {
          "output_type": "stream",
          "text": [
            "Loss=0.3787035644054413 Batch_id=390 Accuracy=83.26: 100%|██████████| 391/391 [00:12<00:00, 31.33it/s]\n",
            "  0%|          | 0/391 [00:00<?, ?it/s]"
          ],
          "name": "stderr"
        },
        {
          "output_type": "stream",
          "text": [
            "\n",
            "Test set: Average loss: 0.0037, Accuracy: 8454/10000 (84.54%)\n",
            "\n",
            "EPOCH: 73\n"
          ],
          "name": "stdout"
        },
        {
          "output_type": "stream",
          "text": [
            "Loss=0.6251848936080933 Batch_id=390 Accuracy=83.42: 100%|██████████| 391/391 [00:12<00:00, 31.59it/s]\n",
            "  0%|          | 0/391 [00:00<?, ?it/s]"
          ],
          "name": "stderr"
        },
        {
          "output_type": "stream",
          "text": [
            "\n",
            "Test set: Average loss: 0.0038, Accuracy: 8403/10000 (84.03%)\n",
            "\n",
            "EPOCH: 74\n"
          ],
          "name": "stdout"
        },
        {
          "output_type": "stream",
          "text": [
            "Loss=0.4376302659511566 Batch_id=390 Accuracy=83.31: 100%|██████████| 391/391 [00:12<00:00, 31.98it/s]\n",
            "  0%|          | 0/391 [00:00<?, ?it/s]"
          ],
          "name": "stderr"
        },
        {
          "output_type": "stream",
          "text": [
            "\n",
            "Test set: Average loss: 0.0037, Accuracy: 8450/10000 (84.50%)\n",
            "\n",
            "EPOCH: 75\n"
          ],
          "name": "stdout"
        },
        {
          "output_type": "stream",
          "text": [
            "Loss=0.44987863302230835 Batch_id=390 Accuracy=83.14: 100%|██████████| 391/391 [00:12<00:00, 31.86it/s]\n",
            "  0%|          | 0/391 [00:00<?, ?it/s]"
          ],
          "name": "stderr"
        },
        {
          "output_type": "stream",
          "text": [
            "\n",
            "Test set: Average loss: 0.0037, Accuracy: 8453/10000 (84.53%)\n",
            "\n",
            "EPOCH: 76\n"
          ],
          "name": "stdout"
        },
        {
          "output_type": "stream",
          "text": [
            "Loss=0.7529491782188416 Batch_id=390 Accuracy=83.62: 100%|██████████| 391/391 [00:12<00:00, 31.95it/s]\n",
            "  0%|          | 0/391 [00:00<?, ?it/s]"
          ],
          "name": "stderr"
        },
        {
          "output_type": "stream",
          "text": [
            "\n",
            "Test set: Average loss: 0.0036, Accuracy: 8494/10000 (84.94%)\n",
            "\n",
            "EPOCH: 77\n"
          ],
          "name": "stdout"
        },
        {
          "output_type": "stream",
          "text": [
            "Loss=0.5607913136482239 Batch_id=390 Accuracy=83.73: 100%|██████████| 391/391 [00:12<00:00, 31.37it/s]\n",
            "  0%|          | 0/391 [00:00<?, ?it/s]"
          ],
          "name": "stderr"
        },
        {
          "output_type": "stream",
          "text": [
            "\n",
            "Test set: Average loss: 0.0037, Accuracy: 8436/10000 (84.36%)\n",
            "\n",
            "EPOCH: 78\n"
          ],
          "name": "stdout"
        },
        {
          "output_type": "stream",
          "text": [
            "Loss=0.5421524047851562 Batch_id=390 Accuracy=83.64: 100%|██████████| 391/391 [00:12<00:00, 31.56it/s]\n",
            "  0%|          | 0/391 [00:00<?, ?it/s]"
          ],
          "name": "stderr"
        },
        {
          "output_type": "stream",
          "text": [
            "\n",
            "Test set: Average loss: 0.0037, Accuracy: 8467/10000 (84.67%)\n",
            "\n",
            "EPOCH: 79\n"
          ],
          "name": "stdout"
        },
        {
          "output_type": "stream",
          "text": [
            "Loss=0.2795838713645935 Batch_id=390 Accuracy=83.44: 100%|██████████| 391/391 [00:12<00:00, 31.96it/s]\n",
            "  0%|          | 0/391 [00:00<?, ?it/s]"
          ],
          "name": "stderr"
        },
        {
          "output_type": "stream",
          "text": [
            "\n",
            "Test set: Average loss: 0.0036, Accuracy: 8473/10000 (84.73%)\n",
            "\n",
            "EPOCH: 80\n"
          ],
          "name": "stdout"
        },
        {
          "output_type": "stream",
          "text": [
            "Loss=0.46172434091567993 Batch_id=390 Accuracy=83.67: 100%|██████████| 391/391 [00:12<00:00, 30.92it/s]\n",
            "  0%|          | 0/391 [00:00<?, ?it/s]"
          ],
          "name": "stderr"
        },
        {
          "output_type": "stream",
          "text": [
            "\n",
            "Test set: Average loss: 0.0038, Accuracy: 8445/10000 (84.45%)\n",
            "\n",
            "EPOCH: 81\n"
          ],
          "name": "stdout"
        },
        {
          "output_type": "stream",
          "text": [
            "Loss=0.3917255997657776 Batch_id=390 Accuracy=83.73: 100%|██████████| 391/391 [00:12<00:00, 30.99it/s]\n",
            "  0%|          | 0/391 [00:00<?, ?it/s]"
          ],
          "name": "stderr"
        },
        {
          "output_type": "stream",
          "text": [
            "\n",
            "Test set: Average loss: 0.0038, Accuracy: 8409/10000 (84.09%)\n",
            "\n",
            "EPOCH: 82\n"
          ],
          "name": "stdout"
        },
        {
          "output_type": "stream",
          "text": [
            "Loss=0.372040718793869 Batch_id=390 Accuracy=83.83: 100%|██████████| 391/391 [00:12<00:00, 30.89it/s]\n",
            "  0%|          | 0/391 [00:00<?, ?it/s]"
          ],
          "name": "stderr"
        },
        {
          "output_type": "stream",
          "text": [
            "\n",
            "Test set: Average loss: 0.0037, Accuracy: 8434/10000 (84.34%)\n",
            "\n",
            "EPOCH: 83\n"
          ],
          "name": "stdout"
        },
        {
          "output_type": "stream",
          "text": [
            "Loss=0.4561113715171814 Batch_id=390 Accuracy=83.90: 100%|██████████| 391/391 [00:12<00:00, 30.20it/s]\n",
            "  0%|          | 0/391 [00:00<?, ?it/s]"
          ],
          "name": "stderr"
        },
        {
          "output_type": "stream",
          "text": [
            "\n",
            "Test set: Average loss: 0.0036, Accuracy: 8476/10000 (84.76%)\n",
            "\n",
            "EPOCH: 84\n"
          ],
          "name": "stdout"
        },
        {
          "output_type": "stream",
          "text": [
            "Loss=0.5162553191184998 Batch_id=390 Accuracy=83.98: 100%|██████████| 391/391 [00:12<00:00, 30.90it/s]\n",
            "  0%|          | 0/391 [00:00<?, ?it/s]"
          ],
          "name": "stderr"
        },
        {
          "output_type": "stream",
          "text": [
            "\n",
            "Test set: Average loss: 0.0036, Accuracy: 8485/10000 (84.85%)\n",
            "\n",
            "EPOCH: 85\n"
          ],
          "name": "stdout"
        },
        {
          "output_type": "stream",
          "text": [
            "Loss=0.5636851191520691 Batch_id=390 Accuracy=84.21: 100%|██████████| 391/391 [00:12<00:00, 31.09it/s]\n",
            "  0%|          | 0/391 [00:00<?, ?it/s]"
          ],
          "name": "stderr"
        },
        {
          "output_type": "stream",
          "text": [
            "\n",
            "Test set: Average loss: 0.0036, Accuracy: 8484/10000 (84.84%)\n",
            "\n",
            "EPOCH: 86\n"
          ],
          "name": "stdout"
        },
        {
          "output_type": "stream",
          "text": [
            "Loss=0.39641308784484863 Batch_id=390 Accuracy=84.11: 100%|██████████| 391/391 [00:12<00:00, 31.16it/s]\n",
            "  0%|          | 0/391 [00:00<?, ?it/s]"
          ],
          "name": "stderr"
        },
        {
          "output_type": "stream",
          "text": [
            "\n",
            "Test set: Average loss: 0.0036, Accuracy: 8500/10000 (85.00%)\n",
            "\n",
            "EPOCH: 87\n"
          ],
          "name": "stdout"
        },
        {
          "output_type": "stream",
          "text": [
            "Loss=0.543121337890625 Batch_id=390 Accuracy=83.91: 100%|██████████| 391/391 [00:12<00:00, 30.90it/s]\n",
            "  0%|          | 0/391 [00:00<?, ?it/s]"
          ],
          "name": "stderr"
        },
        {
          "output_type": "stream",
          "text": [
            "\n",
            "Test set: Average loss: 0.0036, Accuracy: 8511/10000 (85.11%)\n",
            "\n",
            "EPOCH: 88\n"
          ],
          "name": "stdout"
        },
        {
          "output_type": "stream",
          "text": [
            "Loss=0.7345693111419678 Batch_id=390 Accuracy=84.15: 100%|██████████| 391/391 [00:12<00:00, 31.19it/s]\n",
            "  0%|          | 0/391 [00:00<?, ?it/s]"
          ],
          "name": "stderr"
        },
        {
          "output_type": "stream",
          "text": [
            "\n",
            "Test set: Average loss: 0.0036, Accuracy: 8474/10000 (84.74%)\n",
            "\n",
            "EPOCH: 89\n"
          ],
          "name": "stdout"
        },
        {
          "output_type": "stream",
          "text": [
            "Loss=0.5152137875556946 Batch_id=390 Accuracy=84.24: 100%|██████████| 391/391 [00:12<00:00, 30.79it/s]\n",
            "  0%|          | 0/391 [00:00<?, ?it/s]"
          ],
          "name": "stderr"
        },
        {
          "output_type": "stream",
          "text": [
            "\n",
            "Test set: Average loss: 0.0035, Accuracy: 8513/10000 (85.13%)\n",
            "\n",
            "EPOCH: 90\n"
          ],
          "name": "stdout"
        },
        {
          "output_type": "stream",
          "text": [
            "Loss=0.7191966772079468 Batch_id=390 Accuracy=84.24: 100%|██████████| 391/391 [00:12<00:00, 30.81it/s]\n",
            "  0%|          | 0/391 [00:00<?, ?it/s]"
          ],
          "name": "stderr"
        },
        {
          "output_type": "stream",
          "text": [
            "\n",
            "Test set: Average loss: 0.0035, Accuracy: 8504/10000 (85.04%)\n",
            "\n",
            "EPOCH: 91\n"
          ],
          "name": "stdout"
        },
        {
          "output_type": "stream",
          "text": [
            "Loss=0.48198479413986206 Batch_id=390 Accuracy=84.44: 100%|██████████| 391/391 [00:12<00:00, 30.71it/s]\n",
            "  0%|          | 0/391 [00:00<?, ?it/s]"
          ],
          "name": "stderr"
        },
        {
          "output_type": "stream",
          "text": [
            "\n",
            "Test set: Average loss: 0.0036, Accuracy: 8481/10000 (84.81%)\n",
            "\n",
            "EPOCH: 92\n"
          ],
          "name": "stdout"
        },
        {
          "output_type": "stream",
          "text": [
            "Loss=0.47975096106529236 Batch_id=390 Accuracy=84.45: 100%|██████████| 391/391 [00:12<00:00, 30.72it/s]\n",
            "  0%|          | 0/391 [00:00<?, ?it/s]"
          ],
          "name": "stderr"
        },
        {
          "output_type": "stream",
          "text": [
            "\n",
            "Test set: Average loss: 0.0036, Accuracy: 8424/10000 (84.24%)\n",
            "\n",
            "EPOCH: 93\n"
          ],
          "name": "stdout"
        },
        {
          "output_type": "stream",
          "text": [
            "Loss=0.40960758924484253 Batch_id=390 Accuracy=84.57: 100%|██████████| 391/391 [00:12<00:00, 30.88it/s]\n",
            "  0%|          | 0/391 [00:00<?, ?it/s]"
          ],
          "name": "stderr"
        },
        {
          "output_type": "stream",
          "text": [
            "\n",
            "Test set: Average loss: 0.0035, Accuracy: 8567/10000 (85.67%)\n",
            "\n",
            "EPOCH: 94\n"
          ],
          "name": "stdout"
        },
        {
          "output_type": "stream",
          "text": [
            "Loss=0.6805081367492676 Batch_id=390 Accuracy=84.65: 100%|██████████| 391/391 [00:12<00:00, 30.43it/s]\n",
            "  0%|          | 0/391 [00:00<?, ?it/s]"
          ],
          "name": "stderr"
        },
        {
          "output_type": "stream",
          "text": [
            "\n",
            "Test set: Average loss: 0.0036, Accuracy: 8550/10000 (85.50%)\n",
            "\n",
            "EPOCH: 95\n"
          ],
          "name": "stdout"
        },
        {
          "output_type": "stream",
          "text": [
            "Loss=0.39049187302589417 Batch_id=390 Accuracy=84.58: 100%|██████████| 391/391 [00:12<00:00, 30.81it/s]\n",
            "  0%|          | 0/391 [00:00<?, ?it/s]"
          ],
          "name": "stderr"
        },
        {
          "output_type": "stream",
          "text": [
            "\n",
            "Test set: Average loss: 0.0036, Accuracy: 8512/10000 (85.12%)\n",
            "\n",
            "EPOCH: 96\n"
          ],
          "name": "stdout"
        },
        {
          "output_type": "stream",
          "text": [
            "Loss=0.4927293360233307 Batch_id=390 Accuracy=84.90: 100%|██████████| 391/391 [00:12<00:00, 30.81it/s]\n",
            "  0%|          | 0/391 [00:00<?, ?it/s]"
          ],
          "name": "stderr"
        },
        {
          "output_type": "stream",
          "text": [
            "\n",
            "Test set: Average loss: 0.0036, Accuracy: 8485/10000 (84.85%)\n",
            "\n",
            "EPOCH: 97\n"
          ],
          "name": "stdout"
        },
        {
          "output_type": "stream",
          "text": [
            "Loss=0.37856730818748474 Batch_id=390 Accuracy=84.58: 100%|██████████| 391/391 [00:12<00:00, 30.87it/s]\n",
            "  0%|          | 0/391 [00:00<?, ?it/s]"
          ],
          "name": "stderr"
        },
        {
          "output_type": "stream",
          "text": [
            "\n",
            "Test set: Average loss: 0.0035, Accuracy: 8511/10000 (85.11%)\n",
            "\n",
            "EPOCH: 98\n"
          ],
          "name": "stdout"
        },
        {
          "output_type": "stream",
          "text": [
            "Loss=0.32023921608924866 Batch_id=390 Accuracy=84.74: 100%|██████████| 391/391 [00:12<00:00, 31.13it/s]\n",
            "  0%|          | 0/391 [00:00<?, ?it/s]"
          ],
          "name": "stderr"
        },
        {
          "output_type": "stream",
          "text": [
            "\n",
            "Test set: Average loss: 0.0037, Accuracy: 8511/10000 (85.11%)\n",
            "\n",
            "EPOCH: 99\n"
          ],
          "name": "stdout"
        },
        {
          "output_type": "stream",
          "text": [
            "Loss=0.45082154870033264 Batch_id=390 Accuracy=84.44: 100%|██████████| 391/391 [00:12<00:00, 30.64it/s]\n"
          ],
          "name": "stderr"
        },
        {
          "output_type": "stream",
          "text": [
            "\n",
            "Test set: Average loss: 0.0035, Accuracy: 8533/10000 (85.33%)\n",
            "\n"
          ],
          "name": "stdout"
        }
      ]
    },
    {
      "cell_type": "markdown",
      "metadata": {
        "id": "S4DsXuPLcF_N"
      },
      "source": [
        "## Accuracy & Loss Plot"
      ]
    },
    {
      "cell_type": "code",
      "metadata": {
        "colab": {
          "base_uri": "https://localhost:8080/",
          "height": 606
        },
        "id": "vgNYmLJ1b_Bx",
        "outputId": "0152858d-08a4-4300-b55b-7e041acf8650"
      },
      "source": [
        "visualization.plot_acc_loss(train_losses, train_acc, test_losses, test_acc)"
      ],
      "execution_count": 19,
      "outputs": [
        {
          "output_type": "display_data",
          "data": {
            "image/png": "[encoded data removed]",
            "text/plain": [
              "<Figure size 1080x720 with 4 Axes>"
            ]
          },
          "metadata": {
            "tags": [],
            "needs_background": "light"
          }
        }
      ]
    },
    {
      "cell_type": "markdown",
      "metadata": {
        "id": "4m43LCpDbDF3"
      },
      "source": [
        "## Misclassified Images"
      ]
    },
    {
      "cell_type": "code",
      "metadata": {
        "colab": {
          "base_uri": "https://localhost:8080/",
          "height": 700
        },
        "id": "J102gxHIp7Ee",
        "outputId": "13a6a154-fc1c-4cdf-80ca-a6ec6fb856de"
      },
      "source": [
        "visualization.misclassified_images(model, trainset.classes, test_transform, trainset, testset, batch_size )"
      ],
      "execution_count": 20,
      "outputs": [
        {
          "output_type": "stream",
          "text": [
            "Files already downloaded and verified\n"
          ],
          "name": "stdout"
        },
        {
          "output_type": "stream",
          "text": [
            "100%|██████████| 5/5 [00:06<00:00,  1.29s/it]"
          ],
          "name": "stderr"
        },
        {
          "output_type": "stream",
          "text": [
            "cuda\n"
          ],
          "name": "stdout"
        },
        {
          "output_type": "stream",
          "text": [
            "\n",
            "/content/drive/MyDrive/Colab Notebooks/EVA_6/S7_Advanced/src/model/cifar10_model.py:91: UserWarning: Implicit dimension choice for log_softmax has been deprecated. Change the call to include dim=X as an argument.\n",
            "  return F.log_softmax(x)\n",
            "/content/drive/MyDrive/Colab Notebooks/EVA_6/S7_Advanced/src/utils/visualization.py:54: UserWarning: To copy construct from a tensor, it is recommended to use sourceTensor.clone().detach() or sourceTensor.clone().detach().requires_grad_(True), rather than torch.tensor(sourceTensor).\n",
            "  mean_norm = torch.tensor(mean).reshape(1, 3, 1, 1)\n",
            "/content/drive/MyDrive/Colab Notebooks/EVA_6/S7_Advanced/src/utils/visualization.py:55: UserWarning: To copy construct from a tensor, it is recommended to use sourceTensor.clone().detach() or sourceTensor.clone().detach().requires_grad_(True), rather than torch.tensor(sourceTensor).\n",
            "  std_norm = torch.tensor(std).reshape(1, 3, 1, 1)\n"
          ],
          "name": "stderr"
        },
        {
          "output_type": "display_data",
          "data": {
            "image/png": "[encoded data removed]",
            "text/plain": [
              "<Figure size 720x648 with 15 Axes>"
            ]
          },
          "metadata": {
            "tags": [],
            "needs_background": "light"
          }
        }
      ]
    }
  ]
}