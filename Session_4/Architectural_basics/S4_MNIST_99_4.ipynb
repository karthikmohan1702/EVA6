{
  "nbformat": 4,
  "nbformat_minor": 0,
  "metadata": {
    "colab": {
      "name": "S4_MNIST_99.4.ipynb",
      "provenance": [],
      "collapsed_sections": [],
      "authorship_tag": "ABX9TyMzsmZuuvPxfX2V2P4zbTPR",
      "include_colab_link": true
    },
    "kernelspec": {
      "name": "python3",
      "display_name": "Python 3"
    },
    "language_info": {
      "name": "python"
    },
    "accelerator": "GPU"
  },
  "cells": [
    {
      "cell_type": "markdown",
      "metadata": {
        "id": "view-in-github",
        "colab_type": "text"
      },
      "source": [
        "<a href=\"https://colab.research.google.com/github/karthikmohan1702/EVA6/blob/main/Session_4/Architectural_basics/S4_MNIST_99_4.ipynb\" target=\"_parent\"><img src=\"https://colab.research.google.com/assets/colab-badge.svg\" alt=\"Open In Colab\"/></a>"
      ]
    },
    {
      "cell_type": "markdown",
      "metadata": {
        "id": "M11fsLvYPlws"
      },
      "source": [
        "## Libraries"
      ]
    },
    {
      "cell_type": "code",
      "metadata": {
        "id": "cTQGaX4rL2_2"
      },
      "source": [
        "from __future__ import print_function\n",
        "import torch\n",
        "import torch.nn as nn\n",
        "import torch.nn.functional as F\n",
        "import torch.optim as optim\n",
        "from torchvision import datasets, transforms\n",
        "from torch.optim.lr_scheduler import StepLR\n",
        "\n",
        "import matplotlib.pyplot as plt\n",
        "%matplotlib inline"
      ],
      "execution_count": 1,
      "outputs": []
    },
    {
      "cell_type": "markdown",
      "metadata": {
        "id": "fAFDT_1kPng4"
      },
      "source": [
        "## Model structure"
      ]
    },
    {
      "cell_type": "code",
      "metadata": {
        "id": "QMTFrUcEMyFN"
      },
      "source": [
        "class Net(nn.Module):\n",
        "    def __init__(self):\n",
        "        super(Net, self).__init__()\n",
        "        self.conv1 = nn.Conv2d(1, 16, 3)# IP=28x28, OP=26x26, RF=3x3 \n",
        "        self.conv2 = nn.Conv2d(16, 16, 3)# IP=26x26, OP=24x24, RF=5x5 \n",
        "        self.batchnorm2d_1 = nn.BatchNorm2d(16)\n",
        "        self.dropout_1 = nn.Dropout(0.069)\n",
        "\n",
        "        self.conv3 = nn.Conv2d(16, 16, 3)# IP=24x24, OP=22x22, RF=7x7 \n",
        "        self.batchnorm2d_2 = nn.BatchNorm2d(16)\n",
        "        self.pool1 = nn.MaxPool2d(2, 2)# IP=22x22, OP=11x11, RF=14x14 \n",
        "        self.dropout_2 = nn.Dropout(0.069)\n",
        "\n",
        "        self.conv5 = nn.Conv2d(16, 16, 3)# IP=11x11, OP=9x9, RF=16x16 \n",
        "        self.batchnorm2d_4 = nn.BatchNorm2d(16)\n",
        "        \n",
        "\n",
        "        self.conv7 = nn.Conv2d(16, 16, 3)# IP=9x9, OP=7x7, RF=18x18 \n",
        "        self.conv8 = nn.Conv2d(16, 16, 3)# IP=7x7, OP=5x5, RF=20x20 \n",
        "        self.pool2 = nn.AvgPool2d(5)\n",
        "        self.conv9 = nn.Conv2d(16, 10, 1)\n",
        "        # self.fc = nn.Linear(16, 10)\n",
        "\n",
        "    def forward(self, x):\n",
        "        x = self.dropout_1(self.batchnorm2d_1(F.relu(self.conv2(F.relu(self.conv1(x))))))\n",
        "        x = self.dropout_2(self.pool1(self.batchnorm2d_2(F.relu(self.conv3(x)))))\n",
        "  \n",
        "        x = self.batchnorm2d_4(F.relu(self.conv5(x)))\n",
        "        x = F.relu(self.conv7(x))\n",
        "        x = F.relu(self.conv8(x))\n",
        "        x = self.pool2(x)        \n",
        "        x = self.conv9(x)\n",
        "        x = x.view(x.size(0), -1)\n",
        "        # x = self.fc(x)\n",
        "        \n",
        "        return F.log_softmax(x,dim=1)"
      ],
      "execution_count": 2,
      "outputs": []
    },
    {
      "cell_type": "markdown",
      "metadata": {
        "id": "jegwg4c4P58o"
      },
      "source": [
        "## Summary of the architecture"
      ]
    },
    {
      "cell_type": "code",
      "metadata": {
        "id": "dgm5K5FDRam7",
        "colab": {
          "base_uri": "https://localhost:8080/"
        },
        "outputId": "58f43d1b-ff88-4f63-bfd2-e1b8c5b13df6"
      },
      "source": [
        "!pip install torchsummary\n",
        "from torchsummary import summary\n",
        "use_cuda = torch.cuda.is_available()\n",
        "device = torch.device(\"cuda\" if use_cuda else \"cpu\")\n",
        "model = Net().to(device)\n",
        "summary(model, input_size=(1, 28, 28))\n",
        "\n",
        "print(\"device ==> \", device)"
      ],
      "execution_count": 3,
      "outputs": [
        {
          "output_type": "stream",
          "text": [
            "Requirement already satisfied: torchsummary in /usr/local/lib/python3.7/dist-packages (1.5.1)\n",
            "----------------------------------------------------------------\n",
            "        Layer (type)               Output Shape         Param #\n",
            "================================================================\n",
            "            Conv2d-1           [-1, 16, 26, 26]             160\n",
            "            Conv2d-2           [-1, 16, 24, 24]           2,320\n",
            "       BatchNorm2d-3           [-1, 16, 24, 24]              32\n",
            "           Dropout-4           [-1, 16, 24, 24]               0\n",
            "            Conv2d-5           [-1, 16, 22, 22]           2,320\n",
            "       BatchNorm2d-6           [-1, 16, 22, 22]              32\n",
            "         MaxPool2d-7           [-1, 16, 11, 11]               0\n",
            "           Dropout-8           [-1, 16, 11, 11]               0\n",
            "            Conv2d-9             [-1, 16, 9, 9]           2,320\n",
            "      BatchNorm2d-10             [-1, 16, 9, 9]              32\n",
            "           Conv2d-11             [-1, 16, 7, 7]           2,320\n",
            "           Conv2d-12             [-1, 16, 5, 5]           2,320\n",
            "        AvgPool2d-13             [-1, 16, 1, 1]               0\n",
            "           Conv2d-14             [-1, 10, 1, 1]             170\n",
            "================================================================\n",
            "Total params: 12,026\n",
            "Trainable params: 12,026\n",
            "Non-trainable params: 0\n",
            "----------------------------------------------------------------\n",
            "Input size (MB): 0.00\n",
            "Forward/backward pass size (MB): 0.47\n",
            "Params size (MB): 0.05\n",
            "Estimated Total Size (MB): 0.52\n",
            "----------------------------------------------------------------\n",
            "device ==>  cuda\n"
          ],
          "name": "stdout"
        }
      ]
    },
    {
      "cell_type": "code",
      "metadata": {
        "id": "3D9xkMrSSYGs",
        "colab": {
          "base_uri": "https://localhost:8080/"
        },
        "outputId": "c4bfe19e-669e-486c-a5d5-32efca27e4fd"
      },
      "source": [
        "model.eval()"
      ],
      "execution_count": 4,
      "outputs": [
        {
          "output_type": "execute_result",
          "data": {
            "text/plain": [
              "Net(\n",
              "  (conv1): Conv2d(1, 16, kernel_size=(3, 3), stride=(1, 1))\n",
              "  (conv2): Conv2d(16, 16, kernel_size=(3, 3), stride=(1, 1))\n",
              "  (batchnorm2d_1): BatchNorm2d(16, eps=1e-05, momentum=0.1, affine=True, track_running_stats=True)\n",
              "  (dropout_1): Dropout(p=0.069, inplace=False)\n",
              "  (conv3): Conv2d(16, 16, kernel_size=(3, 3), stride=(1, 1))\n",
              "  (batchnorm2d_2): BatchNorm2d(16, eps=1e-05, momentum=0.1, affine=True, track_running_stats=True)\n",
              "  (pool1): MaxPool2d(kernel_size=2, stride=2, padding=0, dilation=1, ceil_mode=False)\n",
              "  (dropout_2): Dropout(p=0.069, inplace=False)\n",
              "  (conv5): Conv2d(16, 16, kernel_size=(3, 3), stride=(1, 1))\n",
              "  (batchnorm2d_4): BatchNorm2d(16, eps=1e-05, momentum=0.1, affine=True, track_running_stats=True)\n",
              "  (conv7): Conv2d(16, 16, kernel_size=(3, 3), stride=(1, 1))\n",
              "  (conv8): Conv2d(16, 16, kernel_size=(3, 3), stride=(1, 1))\n",
              "  (pool2): AvgPool2d(kernel_size=5, stride=5, padding=0)\n",
              "  (conv9): Conv2d(16, 10, kernel_size=(1, 1), stride=(1, 1))\n",
              ")"
            ]
          },
          "metadata": {
            "tags": []
          },
          "execution_count": 4
        }
      ]
    },
    {
      "cell_type": "markdown",
      "metadata": {
        "id": "Bc-20AwJQIaA"
      },
      "source": [
        "## Loading Train & test Dataset"
      ]
    },
    {
      "cell_type": "code",
      "metadata": {
        "id": "anyXR4adRa05"
      },
      "source": [
        "torch.manual_seed(1)\n",
        "batch_size = 128\n",
        "\n",
        "kwargs = {'num_workers': 1, 'pin_memory': True} if use_cuda else {}\n",
        "\n",
        "# Train Loader\n",
        "train_loader = torch.utils.data.DataLoader(\n",
        "    datasets.MNIST('../data', train=True, download=True,\n",
        "                    transform=transforms.Compose([\n",
        "                        transforms.ToTensor(),\n",
        "                        transforms.RandomRotation((-5.0, 5.0), fill=(1,)),\n",
        "                        transforms.Normalize((0.1307,), (0.3081,))\n",
        "                    ])),\n",
        "    batch_size=batch_size, shuffle=True, **kwargs)\n",
        "\n",
        "# Test loader\n",
        "test_loader = torch.utils.data.DataLoader(\n",
        "    datasets.MNIST('../data', train=False, transform=transforms.Compose([\n",
        "                        transforms.ToTensor(),\n",
        "                        transforms.Normalize((0.1307,), (0.3081,))\n",
        "                    ])),\n",
        "    batch_size=batch_size, shuffle=True, **kwargs)"
      ],
      "execution_count": 5,
      "outputs": []
    },
    {
      "cell_type": "code",
      "metadata": {
        "colab": {
          "base_uri": "https://localhost:8080/",
          "height": 316
        },
        "id": "VXfyNMRnHnLs",
        "outputId": "024634d8-72ba-4f2a-97be-0a7c50a8c14e"
      },
      "source": [
        "imgs, lbls = next(iter(train_loader))\n",
        "print(imgs[15].data.shape)\n",
        "classes = range(10)\n",
        "print(classes[lbls[0]])\n",
        "\n",
        "plt.imshow(imgs[0].data.reshape((28,28)), cmap=\"gray\")"
      ],
      "execution_count": 6,
      "outputs": [
        {
          "output_type": "stream",
          "text": [
            "torch.Size([1, 28, 28])\n",
            "6\n"
          ],
          "name": "stdout"
        },
        {
          "output_type": "execute_result",
          "data": {
            "text/plain": [
              "<matplotlib.image.AxesImage at 0x7f645a36ea50>"
            ]
          },
          "metadata": {
            "tags": []
          },
          "execution_count": 6
        },
        {
          "output_type": "display_data",
          "data": {
            "image/png": "[encoded data removed]",
            "text/plain": [
              "<Figure size 432x288 with 1 Axes>"
            ]
          },
          "metadata": {
            "tags": [],
            "needs_background": "light"
          }
        }
      ]
    },
    {
      "cell_type": "markdown",
      "metadata": {
        "id": "glp_L1LtQP-H"
      },
      "source": [
        "## Defining Train & Test"
      ]
    },
    {
      "cell_type": "code",
      "metadata": {
        "id": "IMsyCCpHRa4U"
      },
      "source": [
        "from tqdm import tqdm\n",
        "def train(model, device, train_loader, optimizer, epoch):\n",
        "    model.train()\n",
        "    pbar = tqdm(train_loader)\n",
        "    train_loss = 0\n",
        "    correct = 0\n",
        "    for batch_idx, (data, target) in enumerate(pbar):\n",
        "        data, target = data.to(device), target.to(device)\n",
        "        optimizer.zero_grad()\n",
        "        output = model(data)\n",
        "        loss = F.nll_loss(output, target)\n",
        "        loss.backward()\n",
        "        optimizer.step()\n",
        "\n",
        "        train_loss += loss.item()\n",
        "        pred = output.argmax(dim=1, keepdim=True)\n",
        "        correct += pred.eq(target.view_as(pred)).sum().item()\n",
        "        pbar.set_description(desc= f'loss={loss.item()} batch_id={batch_idx}')\n",
        "\n",
        "    train_loss /= len(train_loader)\n",
        "    train_accuracy = 100. * correct / len(train_loader.dataset)\n",
        "    \n",
        "    return train_loss, train_accuracy \n",
        "\n",
        "\n",
        "def test(model, device, test_loader):\n",
        "    model.eval()\n",
        "    test_loss = 0\n",
        "    correct = 0\n",
        "    with torch.no_grad():\n",
        "        for data, target in test_loader:\n",
        "            data, target = data.to(device), target.to(device)\n",
        "            output = model(data)\n",
        "            test_loss += F.nll_loss(output, target, reduction='sum').item()  # sum up batch loss\n",
        "            pred = output.argmax(dim=1, keepdim=True)  # get the index of the max log-probability\n",
        "            correct += pred.eq(target.view_as(pred)).sum().item()\n",
        "\n",
        "    test_loss /= len(test_loader.dataset)\n",
        "    test_accuracy = 100. * correct / len(test_loader.dataset)\n",
        "\n",
        "    print('\\nTest set: Average loss: {:.4f}, Accuracy: {}/{} ({:.2f}%)\\n'.format(\n",
        "        test_loss, correct, len(test_loader.dataset),\n",
        "        100. * correct / len(test_loader.dataset)))\n",
        "    \n",
        "    return train_loss, test_accuracy"
      ],
      "execution_count": 7,
      "outputs": []
    },
    {
      "cell_type": "markdown",
      "metadata": {
        "id": "0mT404tSQZSQ"
      },
      "source": [
        "## Training the Model"
      ]
    },
    {
      "cell_type": "code",
      "metadata": {
        "id": "mX-j-n5FcQX9",
        "colab": {
          "base_uri": "https://localhost:8080/"
        },
        "outputId": "faa6c42c-0a46-4ec3-c79b-18b207a37c01"
      },
      "source": [
        "model = Net().to(device)\n",
        "optimizer = optim.SGD(model.parameters(), lr=0.05, momentum=0.9)\n",
        "\n",
        "scheduler = StepLR(optimizer, step_size=10, gamma=0.01)\n",
        "\n",
        "train_loss_val = []\n",
        "train_acc_val = []\n",
        "test_loss_val = []\n",
        "test_acc_val = []\n",
        "\n",
        "for epoch in range(1, 20):\n",
        "    print(\"Epoch ===> \", epoch)\n",
        "    train_loss, train_acc = train(model, device, train_loader, optimizer, epoch)\n",
        "    test_loss, test_acc = test(model, device, test_loader)\n",
        "\n",
        "    train_acc_val.append(train_acc)\n",
        "    train_loss_val.append(train_loss)\n",
        "\n",
        "    test_acc_val.append(test_acc)\n",
        "    test_loss_val.append(test_loss)\n",
        "    \n",
        "    scheduler.step()\n",
        "    "
      ],
      "execution_count": 8,
      "outputs": [
        {
          "output_type": "stream",
          "text": [
            "\r  0%|          | 0/469 [00:00<?, ?it/s]"
          ],
          "name": "stderr"
        },
        {
          "output_type": "stream",
          "text": [
            "Epoch ===>  1\n"
          ],
          "name": "stdout"
        },
        {
          "output_type": "stream",
          "text": [
            "loss=0.0801708847284317 batch_id=468: 100%|██████████| 469/469 [00:28<00:00, 16.45it/s]\n",
            "  0%|          | 0/469 [00:00<?, ?it/s]"
          ],
          "name": "stderr"
        },
        {
          "output_type": "stream",
          "text": [
            "\n",
            "Test set: Average loss: 0.0672, Accuracy: 9801/10000 (98.01%)\n",
            "\n",
            "Epoch ===>  2\n"
          ],
          "name": "stdout"
        },
        {
          "output_type": "stream",
          "text": [
            "loss=0.05209269002079964 batch_id=468: 100%|██████████| 469/469 [00:28<00:00, 16.30it/s]\n",
            "  0%|          | 0/469 [00:00<?, ?it/s]"
          ],
          "name": "stderr"
        },
        {
          "output_type": "stream",
          "text": [
            "\n",
            "Test set: Average loss: 0.0488, Accuracy: 9845/10000 (98.45%)\n",
            "\n",
            "Epoch ===>  3\n"
          ],
          "name": "stdout"
        },
        {
          "output_type": "stream",
          "text": [
            "loss=0.030904844403266907 batch_id=468: 100%|██████████| 469/469 [00:28<00:00, 16.25it/s]\n",
            "  0%|          | 0/469 [00:00<?, ?it/s]"
          ],
          "name": "stderr"
        },
        {
          "output_type": "stream",
          "text": [
            "\n",
            "Test set: Average loss: 0.0537, Accuracy: 9818/10000 (98.18%)\n",
            "\n",
            "Epoch ===>  4\n"
          ],
          "name": "stdout"
        },
        {
          "output_type": "stream",
          "text": [
            "loss=0.018628625199198723 batch_id=468: 100%|██████████| 469/469 [00:28<00:00, 16.22it/s]\n",
            "  0%|          | 0/469 [00:00<?, ?it/s]"
          ],
          "name": "stderr"
        },
        {
          "output_type": "stream",
          "text": [
            "\n",
            "Test set: Average loss: 0.0328, Accuracy: 9901/10000 (99.01%)\n",
            "\n",
            "Epoch ===>  5\n"
          ],
          "name": "stdout"
        },
        {
          "output_type": "stream",
          "text": [
            "loss=0.06972938776016235 batch_id=468: 100%|██████████| 469/469 [00:28<00:00, 16.38it/s]\n",
            "  0%|          | 0/469 [00:00<?, ?it/s]"
          ],
          "name": "stderr"
        },
        {
          "output_type": "stream",
          "text": [
            "\n",
            "Test set: Average loss: 0.0280, Accuracy: 9915/10000 (99.15%)\n",
            "\n",
            "Epoch ===>  6\n"
          ],
          "name": "stdout"
        },
        {
          "output_type": "stream",
          "text": [
            "loss=0.028522558510303497 batch_id=468: 100%|██████████| 469/469 [00:28<00:00, 16.20it/s]\n",
            "  0%|          | 0/469 [00:00<?, ?it/s]"
          ],
          "name": "stderr"
        },
        {
          "output_type": "stream",
          "text": [
            "\n",
            "Test set: Average loss: 0.0306, Accuracy: 9910/10000 (99.10%)\n",
            "\n",
            "Epoch ===>  7\n"
          ],
          "name": "stdout"
        },
        {
          "output_type": "stream",
          "text": [
            "loss=0.08459246903657913 batch_id=468: 100%|██████████| 469/469 [00:28<00:00, 16.30it/s]\n",
            "  0%|          | 0/469 [00:00<?, ?it/s]"
          ],
          "name": "stderr"
        },
        {
          "output_type": "stream",
          "text": [
            "\n",
            "Test set: Average loss: 0.0290, Accuracy: 9920/10000 (99.20%)\n",
            "\n",
            "Epoch ===>  8\n"
          ],
          "name": "stdout"
        },
        {
          "output_type": "stream",
          "text": [
            "loss=0.020929912105202675 batch_id=468: 100%|██████████| 469/469 [00:28<00:00, 16.37it/s]\n",
            "  0%|          | 0/469 [00:00<?, ?it/s]"
          ],
          "name": "stderr"
        },
        {
          "output_type": "stream",
          "text": [
            "\n",
            "Test set: Average loss: 0.0287, Accuracy: 9916/10000 (99.16%)\n",
            "\n",
            "Epoch ===>  9\n"
          ],
          "name": "stdout"
        },
        {
          "output_type": "stream",
          "text": [
            "loss=0.019750045612454414 batch_id=468: 100%|██████████| 469/469 [00:28<00:00, 16.24it/s]\n",
            "  0%|          | 0/469 [00:00<?, ?it/s]"
          ],
          "name": "stderr"
        },
        {
          "output_type": "stream",
          "text": [
            "\n",
            "Test set: Average loss: 0.0254, Accuracy: 9923/10000 (99.23%)\n",
            "\n",
            "Epoch ===>  10\n"
          ],
          "name": "stdout"
        },
        {
          "output_type": "stream",
          "text": [
            "loss=0.008316735737025738 batch_id=468: 100%|██████████| 469/469 [00:28<00:00, 16.35it/s]\n",
            "  0%|          | 0/469 [00:00<?, ?it/s]"
          ],
          "name": "stderr"
        },
        {
          "output_type": "stream",
          "text": [
            "\n",
            "Test set: Average loss: 0.0289, Accuracy: 9918/10000 (99.18%)\n",
            "\n",
            "Epoch ===>  11\n"
          ],
          "name": "stdout"
        },
        {
          "output_type": "stream",
          "text": [
            "loss=0.009083679877221584 batch_id=468: 100%|██████████| 469/469 [00:28<00:00, 16.31it/s]\n",
            "  0%|          | 0/469 [00:00<?, ?it/s]"
          ],
          "name": "stderr"
        },
        {
          "output_type": "stream",
          "text": [
            "\n",
            "Test set: Average loss: 0.0219, Accuracy: 9935/10000 (99.35%)\n",
            "\n",
            "Epoch ===>  12\n"
          ],
          "name": "stdout"
        },
        {
          "output_type": "stream",
          "text": [
            "loss=0.029636325314641 batch_id=468: 100%|██████████| 469/469 [00:28<00:00, 16.36it/s]\n",
            "  0%|          | 0/469 [00:00<?, ?it/s]"
          ],
          "name": "stderr"
        },
        {
          "output_type": "stream",
          "text": [
            "\n",
            "Test set: Average loss: 0.0206, Accuracy: 9939/10000 (99.39%)\n",
            "\n",
            "Epoch ===>  13\n"
          ],
          "name": "stdout"
        },
        {
          "output_type": "stream",
          "text": [
            "loss=0.0028239365201443434 batch_id=468: 100%|██████████| 469/469 [00:28<00:00, 16.52it/s]\n",
            "  0%|          | 0/469 [00:00<?, ?it/s]"
          ],
          "name": "stderr"
        },
        {
          "output_type": "stream",
          "text": [
            "\n",
            "Test set: Average loss: 0.0200, Accuracy: 9942/10000 (99.42%)\n",
            "\n",
            "Epoch ===>  14\n"
          ],
          "name": "stdout"
        },
        {
          "output_type": "stream",
          "text": [
            "loss=0.0021510038059204817 batch_id=468: 100%|██████████| 469/469 [00:28<00:00, 16.61it/s]\n",
            "  0%|          | 0/469 [00:00<?, ?it/s]"
          ],
          "name": "stderr"
        },
        {
          "output_type": "stream",
          "text": [
            "\n",
            "Test set: Average loss: 0.0197, Accuracy: 9942/10000 (99.42%)\n",
            "\n",
            "Epoch ===>  15\n"
          ],
          "name": "stdout"
        },
        {
          "output_type": "stream",
          "text": [
            "loss=0.011636830866336823 batch_id=468: 100%|██████████| 469/469 [00:28<00:00, 16.46it/s]\n",
            "  0%|          | 0/469 [00:00<?, ?it/s]"
          ],
          "name": "stderr"
        },
        {
          "output_type": "stream",
          "text": [
            "\n",
            "Test set: Average loss: 0.0193, Accuracy: 9943/10000 (99.43%)\n",
            "\n",
            "Epoch ===>  16\n"
          ],
          "name": "stdout"
        },
        {
          "output_type": "stream",
          "text": [
            "loss=0.009641659446060658 batch_id=468: 100%|██████████| 469/469 [00:28<00:00, 16.71it/s]\n",
            "  0%|          | 0/469 [00:00<?, ?it/s]"
          ],
          "name": "stderr"
        },
        {
          "output_type": "stream",
          "text": [
            "\n",
            "Test set: Average loss: 0.0193, Accuracy: 9945/10000 (99.45%)\n",
            "\n",
            "Epoch ===>  17\n"
          ],
          "name": "stdout"
        },
        {
          "output_type": "stream",
          "text": [
            "loss=0.02697911113500595 batch_id=468: 100%|██████████| 469/469 [00:28<00:00, 16.59it/s]\n",
            "  0%|          | 0/469 [00:00<?, ?it/s]"
          ],
          "name": "stderr"
        },
        {
          "output_type": "stream",
          "text": [
            "\n",
            "Test set: Average loss: 0.0192, Accuracy: 9946/10000 (99.46%)\n",
            "\n",
            "Epoch ===>  18\n"
          ],
          "name": "stdout"
        },
        {
          "output_type": "stream",
          "text": [
            "loss=0.003246374661102891 batch_id=468: 100%|██████████| 469/469 [00:28<00:00, 16.72it/s]\n",
            "  0%|          | 0/469 [00:00<?, ?it/s]"
          ],
          "name": "stderr"
        },
        {
          "output_type": "stream",
          "text": [
            "\n",
            "Test set: Average loss: 0.0191, Accuracy: 9945/10000 (99.45%)\n",
            "\n",
            "Epoch ===>  19\n"
          ],
          "name": "stdout"
        },
        {
          "output_type": "stream",
          "text": [
            "loss=0.025792451575398445 batch_id=468: 100%|██████████| 469/469 [00:28<00:00, 16.73it/s]\n"
          ],
          "name": "stderr"
        },
        {
          "output_type": "stream",
          "text": [
            "\n",
            "Test set: Average loss: 0.0189, Accuracy: 9947/10000 (99.47%)\n",
            "\n"
          ],
          "name": "stdout"
        }
      ]
    },
    {
      "cell_type": "markdown",
      "metadata": {
        "id": "KvsGd21uQesA"
      },
      "source": [
        "## Plotting loss & accuracy of train & test"
      ]
    },
    {
      "cell_type": "code",
      "metadata": {
        "id": "X33zCNt7evRj",
        "colab": {
          "base_uri": "https://localhost:8080/",
          "height": 444
        },
        "outputId": "c320ecc4-45aa-430b-e2a6-59e239715fea"
      },
      "source": [
        "import numpy as np\n",
        "from matplotlib.pyplot import figure\n",
        "\n",
        "figure(figsize=(8, 6), dpi=80)\n",
        "# \"Training & Validation Accuracy\"\n",
        "plt.plot(train_acc_val, label = \"Train_acc\")\n",
        "plt.plot(test_acc_val, label = \"Test_acc\")\n",
        "plt.xlabel(\"Epochs\")\n",
        "plt.legend(loc=\"center right\")\n",
        "plt.title(\"Training & Validation Accuracy\")\n",
        "plt.show()"
      ],
      "execution_count": 9,
      "outputs": [
        {
          "output_type": "display_data",
          "data": {
            "image/png": "[encoded data removed]",
            "text/plain": [
              "<Figure size 640x480 with 1 Axes>"
            ]
          },
          "metadata": {
            "tags": [],
            "needs_background": "light"
          }
        }
      ]
    },
    {
      "cell_type": "code",
      "metadata": {
        "id": "PUlFwRygQpQn"
      },
      "source": [
        ""
      ],
      "execution_count": 9,
      "outputs": []
    }
  ]
}